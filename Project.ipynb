{
 "cells": [
  {
   "cell_type": "code",
   "execution_count": 174,
   "id": "b9125226",
   "metadata": {},
   "outputs": [],
   "source": [
    "import pandas as pd\n",
    "import numpy as np\n",
    "\n",
    "from matplotlib import pyplot as plt\n",
    "%matplotlib inline"
   ]
  },
  {
   "cell_type": "code",
   "execution_count": 175,
   "id": "ed2f6b39",
   "metadata": {},
   "outputs": [],
   "source": [
    "df = pd.read_csv(r'C:\\Users\\Habibur\\Desktop\\Creditscore\\CreditScoring.csv')"
   ]
  },
  {
   "cell_type": "code",
   "execution_count": 176,
   "id": "a2d3f013",
   "metadata": {},
   "outputs": [
    {
     "data": {
      "text/plain": [
       "4456"
      ]
     },
     "execution_count": 176,
     "metadata": {},
     "output_type": "execute_result"
    }
   ],
   "source": [
    "len(df)"
   ]
  },
  {
   "cell_type": "code",
   "execution_count": 177,
   "id": "875b7e64",
   "metadata": {},
   "outputs": [
    {
     "data": {
      "text/html": [
       "<div>\n",
       "<style scoped>\n",
       "    .dataframe tbody tr th:only-of-type {\n",
       "        vertical-align: middle;\n",
       "    }\n",
       "\n",
       "    .dataframe tbody tr th {\n",
       "        vertical-align: top;\n",
       "    }\n",
       "\n",
       "    .dataframe thead th {\n",
       "        text-align: right;\n",
       "    }\n",
       "</style>\n",
       "<table border=\"1\" class=\"dataframe\">\n",
       "  <thead>\n",
       "    <tr style=\"text-align: right;\">\n",
       "      <th></th>\n",
       "      <th>Status</th>\n",
       "      <th>Seniority</th>\n",
       "      <th>Home</th>\n",
       "      <th>Time</th>\n",
       "      <th>Age</th>\n",
       "      <th>Marital</th>\n",
       "      <th>Records</th>\n",
       "      <th>Job</th>\n",
       "      <th>Expenses</th>\n",
       "      <th>Income</th>\n",
       "      <th>Assets</th>\n",
       "      <th>Debt</th>\n",
       "      <th>Amount</th>\n",
       "      <th>Price</th>\n",
       "    </tr>\n",
       "  </thead>\n",
       "  <tbody>\n",
       "    <tr>\n",
       "      <th>0</th>\n",
       "      <td>1</td>\n",
       "      <td>9</td>\n",
       "      <td>1</td>\n",
       "      <td>60</td>\n",
       "      <td>30</td>\n",
       "      <td>2</td>\n",
       "      <td>1</td>\n",
       "      <td>3</td>\n",
       "      <td>73</td>\n",
       "      <td>129</td>\n",
       "      <td>0</td>\n",
       "      <td>0</td>\n",
       "      <td>800</td>\n",
       "      <td>846</td>\n",
       "    </tr>\n",
       "    <tr>\n",
       "      <th>1</th>\n",
       "      <td>1</td>\n",
       "      <td>17</td>\n",
       "      <td>1</td>\n",
       "      <td>60</td>\n",
       "      <td>58</td>\n",
       "      <td>3</td>\n",
       "      <td>1</td>\n",
       "      <td>1</td>\n",
       "      <td>48</td>\n",
       "      <td>131</td>\n",
       "      <td>0</td>\n",
       "      <td>0</td>\n",
       "      <td>1000</td>\n",
       "      <td>1658</td>\n",
       "    </tr>\n",
       "    <tr>\n",
       "      <th>2</th>\n",
       "      <td>2</td>\n",
       "      <td>10</td>\n",
       "      <td>2</td>\n",
       "      <td>36</td>\n",
       "      <td>46</td>\n",
       "      <td>2</td>\n",
       "      <td>2</td>\n",
       "      <td>3</td>\n",
       "      <td>90</td>\n",
       "      <td>200</td>\n",
       "      <td>3000</td>\n",
       "      <td>0</td>\n",
       "      <td>2000</td>\n",
       "      <td>2985</td>\n",
       "    </tr>\n",
       "    <tr>\n",
       "      <th>3</th>\n",
       "      <td>1</td>\n",
       "      <td>0</td>\n",
       "      <td>1</td>\n",
       "      <td>60</td>\n",
       "      <td>24</td>\n",
       "      <td>1</td>\n",
       "      <td>1</td>\n",
       "      <td>1</td>\n",
       "      <td>63</td>\n",
       "      <td>182</td>\n",
       "      <td>2500</td>\n",
       "      <td>0</td>\n",
       "      <td>900</td>\n",
       "      <td>1325</td>\n",
       "    </tr>\n",
       "    <tr>\n",
       "      <th>4</th>\n",
       "      <td>1</td>\n",
       "      <td>0</td>\n",
       "      <td>1</td>\n",
       "      <td>36</td>\n",
       "      <td>26</td>\n",
       "      <td>1</td>\n",
       "      <td>1</td>\n",
       "      <td>1</td>\n",
       "      <td>46</td>\n",
       "      <td>107</td>\n",
       "      <td>0</td>\n",
       "      <td>0</td>\n",
       "      <td>310</td>\n",
       "      <td>910</td>\n",
       "    </tr>\n",
       "  </tbody>\n",
       "</table>\n",
       "</div>"
      ],
      "text/plain": [
       "   Status  Seniority  Home  Time  Age  Marital  Records  Job  Expenses  \\\n",
       "0       1          9     1    60   30        2        1    3        73   \n",
       "1       1         17     1    60   58        3        1    1        48   \n",
       "2       2         10     2    36   46        2        2    3        90   \n",
       "3       1          0     1    60   24        1        1    1        63   \n",
       "4       1          0     1    36   26        1        1    1        46   \n",
       "\n",
       "   Income  Assets  Debt  Amount  Price  \n",
       "0     129       0     0     800    846  \n",
       "1     131       0     0    1000   1658  \n",
       "2     200    3000     0    2000   2985  \n",
       "3     182    2500     0     900   1325  \n",
       "4     107       0     0     310    910  "
      ]
     },
     "execution_count": 177,
     "metadata": {},
     "output_type": "execute_result"
    }
   ],
   "source": [
    "df.head()"
   ]
  },
  {
   "cell_type": "code",
   "execution_count": 178,
   "id": "e61db004",
   "metadata": {},
   "outputs": [
    {
     "data": {
      "text/html": [
       "<div>\n",
       "<style scoped>\n",
       "    .dataframe tbody tr th:only-of-type {\n",
       "        vertical-align: middle;\n",
       "    }\n",
       "\n",
       "    .dataframe tbody tr th {\n",
       "        vertical-align: top;\n",
       "    }\n",
       "\n",
       "    .dataframe thead th {\n",
       "        text-align: right;\n",
       "    }\n",
       "</style>\n",
       "<table border=\"1\" class=\"dataframe\">\n",
       "  <thead>\n",
       "    <tr style=\"text-align: right;\">\n",
       "      <th></th>\n",
       "      <th>status</th>\n",
       "      <th>seniority</th>\n",
       "      <th>home</th>\n",
       "      <th>time</th>\n",
       "      <th>age</th>\n",
       "      <th>marital</th>\n",
       "      <th>records</th>\n",
       "      <th>job</th>\n",
       "      <th>expenses</th>\n",
       "      <th>income</th>\n",
       "      <th>assets</th>\n",
       "      <th>debt</th>\n",
       "      <th>amount</th>\n",
       "      <th>price</th>\n",
       "    </tr>\n",
       "  </thead>\n",
       "  <tbody>\n",
       "    <tr>\n",
       "      <th>0</th>\n",
       "      <td>1</td>\n",
       "      <td>9</td>\n",
       "      <td>1</td>\n",
       "      <td>60</td>\n",
       "      <td>30</td>\n",
       "      <td>2</td>\n",
       "      <td>1</td>\n",
       "      <td>3</td>\n",
       "      <td>73</td>\n",
       "      <td>129</td>\n",
       "      <td>0</td>\n",
       "      <td>0</td>\n",
       "      <td>800</td>\n",
       "      <td>846</td>\n",
       "    </tr>\n",
       "    <tr>\n",
       "      <th>1</th>\n",
       "      <td>1</td>\n",
       "      <td>17</td>\n",
       "      <td>1</td>\n",
       "      <td>60</td>\n",
       "      <td>58</td>\n",
       "      <td>3</td>\n",
       "      <td>1</td>\n",
       "      <td>1</td>\n",
       "      <td>48</td>\n",
       "      <td>131</td>\n",
       "      <td>0</td>\n",
       "      <td>0</td>\n",
       "      <td>1000</td>\n",
       "      <td>1658</td>\n",
       "    </tr>\n",
       "    <tr>\n",
       "      <th>2</th>\n",
       "      <td>2</td>\n",
       "      <td>10</td>\n",
       "      <td>2</td>\n",
       "      <td>36</td>\n",
       "      <td>46</td>\n",
       "      <td>2</td>\n",
       "      <td>2</td>\n",
       "      <td>3</td>\n",
       "      <td>90</td>\n",
       "      <td>200</td>\n",
       "      <td>3000</td>\n",
       "      <td>0</td>\n",
       "      <td>2000</td>\n",
       "      <td>2985</td>\n",
       "    </tr>\n",
       "    <tr>\n",
       "      <th>3</th>\n",
       "      <td>1</td>\n",
       "      <td>0</td>\n",
       "      <td>1</td>\n",
       "      <td>60</td>\n",
       "      <td>24</td>\n",
       "      <td>1</td>\n",
       "      <td>1</td>\n",
       "      <td>1</td>\n",
       "      <td>63</td>\n",
       "      <td>182</td>\n",
       "      <td>2500</td>\n",
       "      <td>0</td>\n",
       "      <td>900</td>\n",
       "      <td>1325</td>\n",
       "    </tr>\n",
       "    <tr>\n",
       "      <th>4</th>\n",
       "      <td>1</td>\n",
       "      <td>0</td>\n",
       "      <td>1</td>\n",
       "      <td>36</td>\n",
       "      <td>26</td>\n",
       "      <td>1</td>\n",
       "      <td>1</td>\n",
       "      <td>1</td>\n",
       "      <td>46</td>\n",
       "      <td>107</td>\n",
       "      <td>0</td>\n",
       "      <td>0</td>\n",
       "      <td>310</td>\n",
       "      <td>910</td>\n",
       "    </tr>\n",
       "  </tbody>\n",
       "</table>\n",
       "</div>"
      ],
      "text/plain": [
       "   status  seniority  home  time  age  marital  records  job  expenses  \\\n",
       "0       1          9     1    60   30        2        1    3        73   \n",
       "1       1         17     1    60   58        3        1    1        48   \n",
       "2       2         10     2    36   46        2        2    3        90   \n",
       "3       1          0     1    60   24        1        1    1        63   \n",
       "4       1          0     1    36   26        1        1    1        46   \n",
       "\n",
       "   income  assets  debt  amount  price  \n",
       "0     129       0     0     800    846  \n",
       "1     131       0     0    1000   1658  \n",
       "2     200    3000     0    2000   2985  \n",
       "3     182    2500     0     900   1325  \n",
       "4     107       0     0     310    910  "
      ]
     },
     "execution_count": 178,
     "metadata": {},
     "output_type": "execute_result"
    }
   ],
   "source": [
    "df.columns = df.columns.str.lower()\n",
    "df.head()"
   ]
  },
  {
   "cell_type": "code",
   "execution_count": 179,
   "id": "9d63f244",
   "metadata": {},
   "outputs": [
    {
     "data": {
      "text/html": [
       "<div>\n",
       "<style scoped>\n",
       "    .dataframe tbody tr th:only-of-type {\n",
       "        vertical-align: middle;\n",
       "    }\n",
       "\n",
       "    .dataframe tbody tr th {\n",
       "        vertical-align: top;\n",
       "    }\n",
       "\n",
       "    .dataframe thead th {\n",
       "        text-align: right;\n",
       "    }\n",
       "</style>\n",
       "<table border=\"1\" class=\"dataframe\">\n",
       "  <thead>\n",
       "    <tr style=\"text-align: right;\">\n",
       "      <th></th>\n",
       "      <th>status</th>\n",
       "      <th>seniority</th>\n",
       "      <th>home</th>\n",
       "      <th>time</th>\n",
       "      <th>age</th>\n",
       "      <th>marital</th>\n",
       "      <th>records</th>\n",
       "      <th>job</th>\n",
       "      <th>expenses</th>\n",
       "      <th>income</th>\n",
       "      <th>assets</th>\n",
       "      <th>debt</th>\n",
       "      <th>amount</th>\n",
       "      <th>price</th>\n",
       "    </tr>\n",
       "  </thead>\n",
       "  <tbody>\n",
       "    <tr>\n",
       "      <th>0</th>\n",
       "      <td>ok</td>\n",
       "      <td>9</td>\n",
       "      <td>1</td>\n",
       "      <td>60</td>\n",
       "      <td>30</td>\n",
       "      <td>2</td>\n",
       "      <td>1</td>\n",
       "      <td>3</td>\n",
       "      <td>73</td>\n",
       "      <td>129</td>\n",
       "      <td>0</td>\n",
       "      <td>0</td>\n",
       "      <td>800</td>\n",
       "      <td>846</td>\n",
       "    </tr>\n",
       "    <tr>\n",
       "      <th>1</th>\n",
       "      <td>ok</td>\n",
       "      <td>17</td>\n",
       "      <td>1</td>\n",
       "      <td>60</td>\n",
       "      <td>58</td>\n",
       "      <td>3</td>\n",
       "      <td>1</td>\n",
       "      <td>1</td>\n",
       "      <td>48</td>\n",
       "      <td>131</td>\n",
       "      <td>0</td>\n",
       "      <td>0</td>\n",
       "      <td>1000</td>\n",
       "      <td>1658</td>\n",
       "    </tr>\n",
       "    <tr>\n",
       "      <th>2</th>\n",
       "      <td>default</td>\n",
       "      <td>10</td>\n",
       "      <td>2</td>\n",
       "      <td>36</td>\n",
       "      <td>46</td>\n",
       "      <td>2</td>\n",
       "      <td>2</td>\n",
       "      <td>3</td>\n",
       "      <td>90</td>\n",
       "      <td>200</td>\n",
       "      <td>3000</td>\n",
       "      <td>0</td>\n",
       "      <td>2000</td>\n",
       "      <td>2985</td>\n",
       "    </tr>\n",
       "    <tr>\n",
       "      <th>3</th>\n",
       "      <td>ok</td>\n",
       "      <td>0</td>\n",
       "      <td>1</td>\n",
       "      <td>60</td>\n",
       "      <td>24</td>\n",
       "      <td>1</td>\n",
       "      <td>1</td>\n",
       "      <td>1</td>\n",
       "      <td>63</td>\n",
       "      <td>182</td>\n",
       "      <td>2500</td>\n",
       "      <td>0</td>\n",
       "      <td>900</td>\n",
       "      <td>1325</td>\n",
       "    </tr>\n",
       "    <tr>\n",
       "      <th>4</th>\n",
       "      <td>ok</td>\n",
       "      <td>0</td>\n",
       "      <td>1</td>\n",
       "      <td>36</td>\n",
       "      <td>26</td>\n",
       "      <td>1</td>\n",
       "      <td>1</td>\n",
       "      <td>1</td>\n",
       "      <td>46</td>\n",
       "      <td>107</td>\n",
       "      <td>0</td>\n",
       "      <td>0</td>\n",
       "      <td>310</td>\n",
       "      <td>910</td>\n",
       "    </tr>\n",
       "  </tbody>\n",
       "</table>\n",
       "</div>"
      ],
      "text/plain": [
       "    status  seniority  home  time  age  marital  records  job  expenses  \\\n",
       "0       ok          9     1    60   30        2        1    3        73   \n",
       "1       ok         17     1    60   58        3        1    1        48   \n",
       "2  default         10     2    36   46        2        2    3        90   \n",
       "3       ok          0     1    60   24        1        1    1        63   \n",
       "4       ok          0     1    36   26        1        1    1        46   \n",
       "\n",
       "   income  assets  debt  amount  price  \n",
       "0     129       0     0     800    846  \n",
       "1     131       0     0    1000   1658  \n",
       "2     200    3000     0    2000   2985  \n",
       "3     182    2500     0     900   1325  \n",
       "4     107       0     0     310    910  "
      ]
     },
     "execution_count": 179,
     "metadata": {},
     "output_type": "execute_result"
    }
   ],
   "source": [
    "#Creating dictionaries and translating their values\n",
    "status_values = {\n",
    "    1: 'ok',\n",
    "    2: 'default',\n",
    "    0: 'unk'\n",
    "}\n",
    "\n",
    "df.status = df.status.map(status_values)\n",
    "df.head()"
   ]
  },
  {
   "cell_type": "code",
   "execution_count": 180,
   "id": "400460dd",
   "metadata": {},
   "outputs": [],
   "source": [
    "home_values = {\n",
    "    1: 'rent',\n",
    "    2: 'owner',\n",
    "    3: 'private',\n",
    "    4: 'ignore',\n",
    "    5: 'parents',\n",
    "    6: 'other',\n",
    "    0: 'unk'\n",
    "}\n",
    "\n",
    "df.home = df.home.map(home_values)"
   ]
  },
  {
   "cell_type": "code",
   "execution_count": 181,
   "id": "5ce7291a",
   "metadata": {},
   "outputs": [],
   "source": [
    "marital_values = {\n",
    "    1: 'single',\n",
    "    2: 'married',\n",
    "    3: 'widow',\n",
    "    4: 'separated',\n",
    "    5: 'divorced',\n",
    "    0: 'unk'\n",
    "}\n",
    "\n",
    "df.marital = df.marital.map(marital_values)"
   ]
  },
  {
   "cell_type": "code",
   "execution_count": 182,
   "id": "82e04db0",
   "metadata": {},
   "outputs": [],
   "source": [
    "records_values = {\n",
    "    1: 'no',\n",
    "    2: 'yes',\n",
    "    0: 'unk'\n",
    "}\n",
    "\n",
    "df.records = df.records.map(records_values)"
   ]
  },
  {
   "cell_type": "code",
   "execution_count": 183,
   "id": "49e5a147",
   "metadata": {},
   "outputs": [],
   "source": [
    "job_values = {\n",
    "    1: 'fixed',\n",
    "    2: 'partime',\n",
    "    3: 'freelance',\n",
    "    4: 'others',\n",
    "    0: 'unk'\n",
    "}\n",
    "\n",
    "df.job = df.job.map(job_values)"
   ]
  },
  {
   "cell_type": "code",
   "execution_count": 184,
   "id": "5e1eef5b",
   "metadata": {},
   "outputs": [
    {
     "data": {
      "text/html": [
       "<div>\n",
       "<style scoped>\n",
       "    .dataframe tbody tr th:only-of-type {\n",
       "        vertical-align: middle;\n",
       "    }\n",
       "\n",
       "    .dataframe tbody tr th {\n",
       "        vertical-align: top;\n",
       "    }\n",
       "\n",
       "    .dataframe thead th {\n",
       "        text-align: right;\n",
       "    }\n",
       "</style>\n",
       "<table border=\"1\" class=\"dataframe\">\n",
       "  <thead>\n",
       "    <tr style=\"text-align: right;\">\n",
       "      <th></th>\n",
       "      <th>status</th>\n",
       "      <th>seniority</th>\n",
       "      <th>home</th>\n",
       "      <th>time</th>\n",
       "      <th>age</th>\n",
       "      <th>marital</th>\n",
       "      <th>records</th>\n",
       "      <th>job</th>\n",
       "      <th>expenses</th>\n",
       "      <th>income</th>\n",
       "      <th>assets</th>\n",
       "      <th>debt</th>\n",
       "      <th>amount</th>\n",
       "      <th>price</th>\n",
       "    </tr>\n",
       "  </thead>\n",
       "  <tbody>\n",
       "    <tr>\n",
       "      <th>0</th>\n",
       "      <td>ok</td>\n",
       "      <td>9</td>\n",
       "      <td>rent</td>\n",
       "      <td>60</td>\n",
       "      <td>30</td>\n",
       "      <td>married</td>\n",
       "      <td>no</td>\n",
       "      <td>freelance</td>\n",
       "      <td>73</td>\n",
       "      <td>129</td>\n",
       "      <td>0</td>\n",
       "      <td>0</td>\n",
       "      <td>800</td>\n",
       "      <td>846</td>\n",
       "    </tr>\n",
       "    <tr>\n",
       "      <th>1</th>\n",
       "      <td>ok</td>\n",
       "      <td>17</td>\n",
       "      <td>rent</td>\n",
       "      <td>60</td>\n",
       "      <td>58</td>\n",
       "      <td>widow</td>\n",
       "      <td>no</td>\n",
       "      <td>fixed</td>\n",
       "      <td>48</td>\n",
       "      <td>131</td>\n",
       "      <td>0</td>\n",
       "      <td>0</td>\n",
       "      <td>1000</td>\n",
       "      <td>1658</td>\n",
       "    </tr>\n",
       "    <tr>\n",
       "      <th>2</th>\n",
       "      <td>default</td>\n",
       "      <td>10</td>\n",
       "      <td>owner</td>\n",
       "      <td>36</td>\n",
       "      <td>46</td>\n",
       "      <td>married</td>\n",
       "      <td>yes</td>\n",
       "      <td>freelance</td>\n",
       "      <td>90</td>\n",
       "      <td>200</td>\n",
       "      <td>3000</td>\n",
       "      <td>0</td>\n",
       "      <td>2000</td>\n",
       "      <td>2985</td>\n",
       "    </tr>\n",
       "    <tr>\n",
       "      <th>3</th>\n",
       "      <td>ok</td>\n",
       "      <td>0</td>\n",
       "      <td>rent</td>\n",
       "      <td>60</td>\n",
       "      <td>24</td>\n",
       "      <td>single</td>\n",
       "      <td>no</td>\n",
       "      <td>fixed</td>\n",
       "      <td>63</td>\n",
       "      <td>182</td>\n",
       "      <td>2500</td>\n",
       "      <td>0</td>\n",
       "      <td>900</td>\n",
       "      <td>1325</td>\n",
       "    </tr>\n",
       "    <tr>\n",
       "      <th>4</th>\n",
       "      <td>ok</td>\n",
       "      <td>0</td>\n",
       "      <td>rent</td>\n",
       "      <td>36</td>\n",
       "      <td>26</td>\n",
       "      <td>single</td>\n",
       "      <td>no</td>\n",
       "      <td>fixed</td>\n",
       "      <td>46</td>\n",
       "      <td>107</td>\n",
       "      <td>0</td>\n",
       "      <td>0</td>\n",
       "      <td>310</td>\n",
       "      <td>910</td>\n",
       "    </tr>\n",
       "  </tbody>\n",
       "</table>\n",
       "</div>"
      ],
      "text/plain": [
       "    status  seniority   home  time  age  marital records        job  expenses  \\\n",
       "0       ok          9   rent    60   30  married      no  freelance        73   \n",
       "1       ok         17   rent    60   58    widow      no      fixed        48   \n",
       "2  default         10  owner    36   46  married     yes  freelance        90   \n",
       "3       ok          0   rent    60   24   single      no      fixed        63   \n",
       "4       ok          0   rent    36   26   single      no      fixed        46   \n",
       "\n",
       "   income  assets  debt  amount  price  \n",
       "0     129       0     0     800    846  \n",
       "1     131       0     0    1000   1658  \n",
       "2     200    3000     0    2000   2985  \n",
       "3     182    2500     0     900   1325  \n",
       "4     107       0     0     310    910  "
      ]
     },
     "execution_count": 184,
     "metadata": {},
     "output_type": "execute_result"
    }
   ],
   "source": [
    "df.head()"
   ]
  },
  {
   "cell_type": "code",
   "execution_count": 185,
   "id": "3278c406",
   "metadata": {},
   "outputs": [
    {
     "data": {
      "text/html": [
       "<div>\n",
       "<style scoped>\n",
       "    .dataframe tbody tr th:only-of-type {\n",
       "        vertical-align: middle;\n",
       "    }\n",
       "\n",
       "    .dataframe tbody tr th {\n",
       "        vertical-align: top;\n",
       "    }\n",
       "\n",
       "    .dataframe thead th {\n",
       "        text-align: right;\n",
       "    }\n",
       "</style>\n",
       "<table border=\"1\" class=\"dataframe\">\n",
       "  <thead>\n",
       "    <tr style=\"text-align: right;\">\n",
       "      <th></th>\n",
       "      <th>seniority</th>\n",
       "      <th>time</th>\n",
       "      <th>age</th>\n",
       "      <th>expenses</th>\n",
       "      <th>income</th>\n",
       "      <th>assets</th>\n",
       "      <th>debt</th>\n",
       "      <th>amount</th>\n",
       "      <th>price</th>\n",
       "    </tr>\n",
       "  </thead>\n",
       "  <tbody>\n",
       "    <tr>\n",
       "      <th>count</th>\n",
       "      <td>4456.0</td>\n",
       "      <td>4456.0</td>\n",
       "      <td>4456.0</td>\n",
       "      <td>4456.0</td>\n",
       "      <td>4456.0</td>\n",
       "      <td>4456.0</td>\n",
       "      <td>4456.0</td>\n",
       "      <td>4456.0</td>\n",
       "      <td>4456.0</td>\n",
       "    </tr>\n",
       "    <tr>\n",
       "      <th>mean</th>\n",
       "      <td>8.0</td>\n",
       "      <td>46.0</td>\n",
       "      <td>37.0</td>\n",
       "      <td>56.0</td>\n",
       "      <td>763146.0</td>\n",
       "      <td>1060103.0</td>\n",
       "      <td>404291.0</td>\n",
       "      <td>1039.0</td>\n",
       "      <td>1463.0</td>\n",
       "    </tr>\n",
       "    <tr>\n",
       "      <th>std</th>\n",
       "      <td>8.0</td>\n",
       "      <td>15.0</td>\n",
       "      <td>11.0</td>\n",
       "      <td>20.0</td>\n",
       "      <td>8702656.0</td>\n",
       "      <td>10216434.0</td>\n",
       "      <td>6343544.0</td>\n",
       "      <td>475.0</td>\n",
       "      <td>628.0</td>\n",
       "    </tr>\n",
       "    <tr>\n",
       "      <th>min</th>\n",
       "      <td>0.0</td>\n",
       "      <td>6.0</td>\n",
       "      <td>18.0</td>\n",
       "      <td>35.0</td>\n",
       "      <td>0.0</td>\n",
       "      <td>0.0</td>\n",
       "      <td>0.0</td>\n",
       "      <td>100.0</td>\n",
       "      <td>105.0</td>\n",
       "    </tr>\n",
       "    <tr>\n",
       "      <th>25%</th>\n",
       "      <td>2.0</td>\n",
       "      <td>36.0</td>\n",
       "      <td>28.0</td>\n",
       "      <td>35.0</td>\n",
       "      <td>80.0</td>\n",
       "      <td>0.0</td>\n",
       "      <td>0.0</td>\n",
       "      <td>700.0</td>\n",
       "      <td>1117.0</td>\n",
       "    </tr>\n",
       "    <tr>\n",
       "      <th>50%</th>\n",
       "      <td>5.0</td>\n",
       "      <td>48.0</td>\n",
       "      <td>36.0</td>\n",
       "      <td>50.0</td>\n",
       "      <td>120.0</td>\n",
       "      <td>3500.0</td>\n",
       "      <td>0.0</td>\n",
       "      <td>1000.0</td>\n",
       "      <td>1400.0</td>\n",
       "    </tr>\n",
       "    <tr>\n",
       "      <th>75%</th>\n",
       "      <td>12.0</td>\n",
       "      <td>60.0</td>\n",
       "      <td>45.0</td>\n",
       "      <td>72.0</td>\n",
       "      <td>166.0</td>\n",
       "      <td>6000.0</td>\n",
       "      <td>0.0</td>\n",
       "      <td>1300.0</td>\n",
       "      <td>1692.0</td>\n",
       "    </tr>\n",
       "    <tr>\n",
       "      <th>max</th>\n",
       "      <td>48.0</td>\n",
       "      <td>72.0</td>\n",
       "      <td>68.0</td>\n",
       "      <td>180.0</td>\n",
       "      <td>99999999.0</td>\n",
       "      <td>99999999.0</td>\n",
       "      <td>99999999.0</td>\n",
       "      <td>5000.0</td>\n",
       "      <td>11140.0</td>\n",
       "    </tr>\n",
       "  </tbody>\n",
       "</table>\n",
       "</div>"
      ],
      "text/plain": [
       "       seniority    time     age  expenses      income      assets  \\\n",
       "count     4456.0  4456.0  4456.0    4456.0      4456.0      4456.0   \n",
       "mean         8.0    46.0    37.0      56.0    763146.0   1060103.0   \n",
       "std          8.0    15.0    11.0      20.0   8702656.0  10216434.0   \n",
       "min          0.0     6.0    18.0      35.0         0.0         0.0   \n",
       "25%          2.0    36.0    28.0      35.0        80.0         0.0   \n",
       "50%          5.0    48.0    36.0      50.0       120.0      3500.0   \n",
       "75%         12.0    60.0    45.0      72.0       166.0      6000.0   \n",
       "max         48.0    72.0    68.0     180.0  99999999.0  99999999.0   \n",
       "\n",
       "             debt  amount    price  \n",
       "count      4456.0  4456.0   4456.0  \n",
       "mean     404291.0  1039.0   1463.0  \n",
       "std     6343544.0   475.0    628.0  \n",
       "min           0.0   100.0    105.0  \n",
       "25%           0.0   700.0   1117.0  \n",
       "50%           0.0  1000.0   1400.0  \n",
       "75%           0.0  1300.0   1692.0  \n",
       "max    99999999.0  5000.0  11140.0  "
      ]
     },
     "execution_count": 185,
     "metadata": {},
     "output_type": "execute_result"
    }
   ],
   "source": [
    "df.describe().round()"
   ]
  },
  {
   "cell_type": "code",
   "execution_count": 186,
   "id": "51f3c08e",
   "metadata": {},
   "outputs": [
    {
     "data": {
      "text/plain": [
       "status        0\n",
       "seniority     0\n",
       "home          0\n",
       "time          0\n",
       "age           0\n",
       "marital       0\n",
       "records       0\n",
       "job           0\n",
       "expenses      0\n",
       "income       34\n",
       "assets       47\n",
       "debt         18\n",
       "amount        0\n",
       "price         0\n",
       "dtype: int64"
      ]
     },
     "execution_count": 186,
     "metadata": {},
     "output_type": "execute_result"
    }
   ],
   "source": [
    "for c in ['income', 'assets', 'debt']:\n",
    "    df[c] = df[c].replace(to_replace = 99999999, value = np.nan)\n",
    "    \n",
    "df.isnull().sum()"
   ]
  },
  {
   "cell_type": "code",
   "execution_count": 187,
   "id": "a7eb838e",
   "metadata": {},
   "outputs": [
    {
     "data": {
      "text/html": [
       "<div>\n",
       "<style scoped>\n",
       "    .dataframe tbody tr th:only-of-type {\n",
       "        vertical-align: middle;\n",
       "    }\n",
       "\n",
       "    .dataframe tbody tr th {\n",
       "        vertical-align: top;\n",
       "    }\n",
       "\n",
       "    .dataframe thead th {\n",
       "        text-align: right;\n",
       "    }\n",
       "</style>\n",
       "<table border=\"1\" class=\"dataframe\">\n",
       "  <thead>\n",
       "    <tr style=\"text-align: right;\">\n",
       "      <th></th>\n",
       "      <th>seniority</th>\n",
       "      <th>time</th>\n",
       "      <th>age</th>\n",
       "      <th>expenses</th>\n",
       "      <th>income</th>\n",
       "      <th>assets</th>\n",
       "      <th>debt</th>\n",
       "      <th>amount</th>\n",
       "      <th>price</th>\n",
       "    </tr>\n",
       "  </thead>\n",
       "  <tbody>\n",
       "    <tr>\n",
       "      <th>count</th>\n",
       "      <td>4456.0</td>\n",
       "      <td>4456.0</td>\n",
       "      <td>4456.0</td>\n",
       "      <td>4456.0</td>\n",
       "      <td>4422.0</td>\n",
       "      <td>4409.0</td>\n",
       "      <td>4438.0</td>\n",
       "      <td>4456.0</td>\n",
       "      <td>4456.0</td>\n",
       "    </tr>\n",
       "    <tr>\n",
       "      <th>mean</th>\n",
       "      <td>8.0</td>\n",
       "      <td>46.0</td>\n",
       "      <td>37.0</td>\n",
       "      <td>56.0</td>\n",
       "      <td>131.0</td>\n",
       "      <td>5402.0</td>\n",
       "      <td>343.0</td>\n",
       "      <td>1039.0</td>\n",
       "      <td>1463.0</td>\n",
       "    </tr>\n",
       "    <tr>\n",
       "      <th>std</th>\n",
       "      <td>8.0</td>\n",
       "      <td>15.0</td>\n",
       "      <td>11.0</td>\n",
       "      <td>20.0</td>\n",
       "      <td>86.0</td>\n",
       "      <td>11572.0</td>\n",
       "      <td>1246.0</td>\n",
       "      <td>475.0</td>\n",
       "      <td>628.0</td>\n",
       "    </tr>\n",
       "    <tr>\n",
       "      <th>min</th>\n",
       "      <td>0.0</td>\n",
       "      <td>6.0</td>\n",
       "      <td>18.0</td>\n",
       "      <td>35.0</td>\n",
       "      <td>0.0</td>\n",
       "      <td>0.0</td>\n",
       "      <td>0.0</td>\n",
       "      <td>100.0</td>\n",
       "      <td>105.0</td>\n",
       "    </tr>\n",
       "    <tr>\n",
       "      <th>25%</th>\n",
       "      <td>2.0</td>\n",
       "      <td>36.0</td>\n",
       "      <td>28.0</td>\n",
       "      <td>35.0</td>\n",
       "      <td>80.0</td>\n",
       "      <td>0.0</td>\n",
       "      <td>0.0</td>\n",
       "      <td>700.0</td>\n",
       "      <td>1117.0</td>\n",
       "    </tr>\n",
       "    <tr>\n",
       "      <th>50%</th>\n",
       "      <td>5.0</td>\n",
       "      <td>48.0</td>\n",
       "      <td>36.0</td>\n",
       "      <td>50.0</td>\n",
       "      <td>120.0</td>\n",
       "      <td>3000.0</td>\n",
       "      <td>0.0</td>\n",
       "      <td>1000.0</td>\n",
       "      <td>1400.0</td>\n",
       "    </tr>\n",
       "    <tr>\n",
       "      <th>75%</th>\n",
       "      <td>12.0</td>\n",
       "      <td>60.0</td>\n",
       "      <td>45.0</td>\n",
       "      <td>72.0</td>\n",
       "      <td>165.0</td>\n",
       "      <td>6000.0</td>\n",
       "      <td>0.0</td>\n",
       "      <td>1300.0</td>\n",
       "      <td>1692.0</td>\n",
       "    </tr>\n",
       "    <tr>\n",
       "      <th>max</th>\n",
       "      <td>48.0</td>\n",
       "      <td>72.0</td>\n",
       "      <td>68.0</td>\n",
       "      <td>180.0</td>\n",
       "      <td>959.0</td>\n",
       "      <td>300000.0</td>\n",
       "      <td>30000.0</td>\n",
       "      <td>5000.0</td>\n",
       "      <td>11140.0</td>\n",
       "    </tr>\n",
       "  </tbody>\n",
       "</table>\n",
       "</div>"
      ],
      "text/plain": [
       "       seniority    time     age  expenses  income    assets     debt  amount  \\\n",
       "count     4456.0  4456.0  4456.0    4456.0  4422.0    4409.0   4438.0  4456.0   \n",
       "mean         8.0    46.0    37.0      56.0   131.0    5402.0    343.0  1039.0   \n",
       "std          8.0    15.0    11.0      20.0    86.0   11572.0   1246.0   475.0   \n",
       "min          0.0     6.0    18.0      35.0     0.0       0.0      0.0   100.0   \n",
       "25%          2.0    36.0    28.0      35.0    80.0       0.0      0.0   700.0   \n",
       "50%          5.0    48.0    36.0      50.0   120.0    3000.0      0.0  1000.0   \n",
       "75%         12.0    60.0    45.0      72.0   165.0    6000.0      0.0  1300.0   \n",
       "max         48.0    72.0    68.0     180.0   959.0  300000.0  30000.0  5000.0   \n",
       "\n",
       "         price  \n",
       "count   4456.0  \n",
       "mean    1463.0  \n",
       "std      628.0  \n",
       "min      105.0  \n",
       "25%     1117.0  \n",
       "50%     1400.0  \n",
       "75%     1692.0  \n",
       "max    11140.0  "
      ]
     },
     "execution_count": 187,
     "metadata": {},
     "output_type": "execute_result"
    }
   ],
   "source": [
    "df.describe().round()"
   ]
  },
  {
   "cell_type": "code",
   "execution_count": 188,
   "id": "6d526dba",
   "metadata": {},
   "outputs": [
    {
     "data": {
      "text/plain": [
       "ok         3201\n",
       "default    1254\n",
       "unk           1\n",
       "Name: status, dtype: int64"
      ]
     },
     "execution_count": 188,
     "metadata": {},
     "output_type": "execute_result"
    }
   ],
   "source": [
    "df.status.value_counts()"
   ]
  },
  {
   "cell_type": "code",
   "execution_count": 189,
   "id": "d97fea99",
   "metadata": {},
   "outputs": [],
   "source": [
    "df = df[df.status != 'unk']"
   ]
  },
  {
   "cell_type": "code",
   "execution_count": 190,
   "id": "6c3eabcc",
   "metadata": {},
   "outputs": [],
   "source": [
    "#Splitting data\n",
    "from sklearn.model_selection import train_test_split\n",
    "\n",
    "df_train_full , df_test = train_test_split(df, test_size = 0.20, random_state=11)\n",
    "df_train, df_val = train_test_split(df_train_full, test_size = 0.5, random_state = 11)"
   ]
  },
  {
   "cell_type": "code",
   "execution_count": 191,
   "id": "20bf1e3a",
   "metadata": {},
   "outputs": [],
   "source": [
    "y_train = (df_train.status == 'default').values\n",
    "y_val = (df_val.status == 'default').values\n",
    "\n",
    "\n",
    "del df_train['status']\n",
    "del df_val['status']"
   ]
  },
  {
   "cell_type": "code",
   "execution_count": 192,
   "id": "b3aca977",
   "metadata": {},
   "outputs": [
    {
     "data": {
      "text/plain": [
       "(1782, 1782, 891)"
      ]
     },
     "execution_count": 192,
     "metadata": {},
     "output_type": "execute_result"
    }
   ],
   "source": [
    "len(df_train), len(df_val), len(df_test)"
   ]
  },
  {
   "cell_type": "code",
   "execution_count": 193,
   "id": "032bf3db",
   "metadata": {},
   "outputs": [],
   "source": [
    "df_train = df_train.fillna(0)\n",
    "df_val = df_train.fillna(0)"
   ]
  },
  {
   "cell_type": "code",
   "execution_count": 194,
   "id": "9bd51357",
   "metadata": {},
   "outputs": [],
   "source": [
    "#Converts each column into a dictionary\n",
    "dict_train = df_train.to_dict(orient = 'records')\n",
    "dict_val = df_val.to_dict(orient = 'records')"
   ]
  },
  {
   "cell_type": "code",
   "execution_count": 195,
   "id": "0b0ab540",
   "metadata": {},
   "outputs": [],
   "source": [
    "#Creates feature matrix + One hot encoding\n",
    "from sklearn.feature_extraction import DictVectorizer\n",
    "\n",
    "dv = DictVectorizer(sparse=False)\n",
    "\n",
    "X_train = dv.fit_transform(dict_train)\n",
    "X_val = dv.transform(dict_val)"
   ]
  },
  {
   "cell_type": "code",
   "execution_count": 196,
   "id": "675d0c48",
   "metadata": {},
   "outputs": [],
   "source": [
    "from sklearn.tree import DecisionTreeClassifier\n",
    "from sklearn.metrics import roc_auc_score"
   ]
  },
  {
   "cell_type": "code",
   "execution_count": 197,
   "id": "24900129",
   "metadata": {},
   "outputs": [
    {
     "data": {
      "text/html": [
       "<style>#sk-container-id-6 {color: black;background-color: white;}#sk-container-id-6 pre{padding: 0;}#sk-container-id-6 div.sk-toggleable {background-color: white;}#sk-container-id-6 label.sk-toggleable__label {cursor: pointer;display: block;width: 100%;margin-bottom: 0;padding: 0.3em;box-sizing: border-box;text-align: center;}#sk-container-id-6 label.sk-toggleable__label-arrow:before {content: \"▸\";float: left;margin-right: 0.25em;color: #696969;}#sk-container-id-6 label.sk-toggleable__label-arrow:hover:before {color: black;}#sk-container-id-6 div.sk-estimator:hover label.sk-toggleable__label-arrow:before {color: black;}#sk-container-id-6 div.sk-toggleable__content {max-height: 0;max-width: 0;overflow: hidden;text-align: left;background-color: #f0f8ff;}#sk-container-id-6 div.sk-toggleable__content pre {margin: 0.2em;color: black;border-radius: 0.25em;background-color: #f0f8ff;}#sk-container-id-6 input.sk-toggleable__control:checked~div.sk-toggleable__content {max-height: 200px;max-width: 100%;overflow: auto;}#sk-container-id-6 input.sk-toggleable__control:checked~label.sk-toggleable__label-arrow:before {content: \"▾\";}#sk-container-id-6 div.sk-estimator input.sk-toggleable__control:checked~label.sk-toggleable__label {background-color: #d4ebff;}#sk-container-id-6 div.sk-label input.sk-toggleable__control:checked~label.sk-toggleable__label {background-color: #d4ebff;}#sk-container-id-6 input.sk-hidden--visually {border: 0;clip: rect(1px 1px 1px 1px);clip: rect(1px, 1px, 1px, 1px);height: 1px;margin: -1px;overflow: hidden;padding: 0;position: absolute;width: 1px;}#sk-container-id-6 div.sk-estimator {font-family: monospace;background-color: #f0f8ff;border: 1px dotted black;border-radius: 0.25em;box-sizing: border-box;margin-bottom: 0.5em;}#sk-container-id-6 div.sk-estimator:hover {background-color: #d4ebff;}#sk-container-id-6 div.sk-parallel-item::after {content: \"\";width: 100%;border-bottom: 1px solid gray;flex-grow: 1;}#sk-container-id-6 div.sk-label:hover label.sk-toggleable__label {background-color: #d4ebff;}#sk-container-id-6 div.sk-serial::before {content: \"\";position: absolute;border-left: 1px solid gray;box-sizing: border-box;top: 0;bottom: 0;left: 50%;z-index: 0;}#sk-container-id-6 div.sk-serial {display: flex;flex-direction: column;align-items: center;background-color: white;padding-right: 0.2em;padding-left: 0.2em;position: relative;}#sk-container-id-6 div.sk-item {position: relative;z-index: 1;}#sk-container-id-6 div.sk-parallel {display: flex;align-items: stretch;justify-content: center;background-color: white;position: relative;}#sk-container-id-6 div.sk-item::before, #sk-container-id-6 div.sk-parallel-item::before {content: \"\";position: absolute;border-left: 1px solid gray;box-sizing: border-box;top: 0;bottom: 0;left: 50%;z-index: -1;}#sk-container-id-6 div.sk-parallel-item {display: flex;flex-direction: column;z-index: 1;position: relative;background-color: white;}#sk-container-id-6 div.sk-parallel-item:first-child::after {align-self: flex-end;width: 50%;}#sk-container-id-6 div.sk-parallel-item:last-child::after {align-self: flex-start;width: 50%;}#sk-container-id-6 div.sk-parallel-item:only-child::after {width: 0;}#sk-container-id-6 div.sk-dashed-wrapped {border: 1px dashed gray;margin: 0 0.4em 0.5em 0.4em;box-sizing: border-box;padding-bottom: 0.4em;background-color: white;}#sk-container-id-6 div.sk-label label {font-family: monospace;font-weight: bold;display: inline-block;line-height: 1.2em;}#sk-container-id-6 div.sk-label-container {text-align: center;}#sk-container-id-6 div.sk-container {/* jupyter's `normalize.less` sets `[hidden] { display: none; }` but bootstrap.min.css set `[hidden] { display: none !important; }` so we also need the `!important` here to be able to override the default hidden behavior on the sphinx rendered scikit-learn.org. See: https://github.com/scikit-learn/scikit-learn/issues/21755 */display: inline-block !important;position: relative;}#sk-container-id-6 div.sk-text-repr-fallback {display: none;}</style><div id=\"sk-container-id-6\" class=\"sk-top-container\"><div class=\"sk-text-repr-fallback\"><pre>DecisionTreeClassifier()</pre><b>In a Jupyter environment, please rerun this cell to show the HTML representation or trust the notebook. <br />On GitHub, the HTML representation is unable to render, please try loading this page with nbviewer.org.</b></div><div class=\"sk-container\" hidden><div class=\"sk-item\"><div class=\"sk-estimator sk-toggleable\"><input class=\"sk-toggleable__control sk-hidden--visually\" id=\"sk-estimator-id-6\" type=\"checkbox\" checked><label for=\"sk-estimator-id-6\" class=\"sk-toggleable__label sk-toggleable__label-arrow\">DecisionTreeClassifier</label><div class=\"sk-toggleable__content\"><pre>DecisionTreeClassifier()</pre></div></div></div></div></div>"
      ],
      "text/plain": [
       "DecisionTreeClassifier()"
      ]
     },
     "execution_count": 197,
     "metadata": {},
     "output_type": "execute_result"
    }
   ],
   "source": [
    "dt = DecisionTreeClassifier()\n",
    "dt.fit(X_train, y_train)"
   ]
  },
  {
   "cell_type": "code",
   "execution_count": 198,
   "id": "4c27beca",
   "metadata": {},
   "outputs": [
    {
     "data": {
      "text/plain": [
       "1.0"
      ]
     },
     "execution_count": 198,
     "metadata": {},
     "output_type": "execute_result"
    }
   ],
   "source": [
    "#Overfitting\n",
    "y_pred = dt.predict_proba(X_train)[:, 1]\n",
    "roc_auc_score(y_train, y_pred)"
   ]
  },
  {
   "cell_type": "code",
   "execution_count": 199,
   "id": "6815c644",
   "metadata": {},
   "outputs": [
    {
     "data": {
      "text/plain": [
       "0.49959372601316515"
      ]
     },
     "execution_count": 199,
     "metadata": {},
     "output_type": "execute_result"
    }
   ],
   "source": [
    "y_pred = dt.predict_proba(X_val)[:, 1]\n",
    "roc_auc_score(y_val, y_pred)"
   ]
  },
  {
   "cell_type": "code",
   "execution_count": 200,
   "id": "6d1a25b8",
   "metadata": {
    "scrolled": true
   },
   "outputs": [
    {
     "name": "stdout",
     "output_type": "stream",
     "text": [
      "|--- income <= 101.50\n",
      "|   |--- records=no <= 0.50\n",
      "|   |   |--- class: True\n",
      "|   |--- records=no >  0.50\n",
      "|   |   |--- class: False\n",
      "|--- income >  101.50\n",
      "|   |--- records=no <= 0.50\n",
      "|   |   |--- class: False\n",
      "|   |--- records=no >  0.50\n",
      "|   |   |--- class: False\n",
      "\n"
     ]
    }
   ],
   "source": [
    "from sklearn.tree import export_text\n",
    "\n",
    "dt = DecisionTreeClassifier(max_depth=2)\n",
    "dt.fit(X_train, y_train)\n",
    "\n",
    "tree_text = export_text(dt, feature_names = dv.feature_names_)\n",
    "print(tree_text)"
   ]
  },
  {
   "cell_type": "code",
   "execution_count": 201,
   "id": "b841491b",
   "metadata": {},
   "outputs": [
    {
     "name": "stdout",
     "output_type": "stream",
     "text": [
      "train auc 0.7265167735069806\n",
      "validation auc 0.48689301193236\n"
     ]
    }
   ],
   "source": [
    "y_pred = dt.predict_proba(X_train)[:, 1]\n",
    "auc = roc_auc_score(y_train, y_pred)\n",
    "print('train auc', auc)\n",
    "\n",
    "y_pred = dt.predict_proba(X_train)[:, 1]\n",
    "auc = roc_auc_score(y_val, y_pred)\n",
    "print('validation auc', auc)"
   ]
  },
  {
   "cell_type": "code",
   "execution_count": 202,
   "id": "149e0a28",
   "metadata": {},
   "outputs": [
    {
     "name": "stdout",
     "output_type": "stream",
     "text": [
      "   1 -> 0.504\n",
      "   2 -> 0.487\n",
      "   3 -> 0.488\n",
      "   4 -> 0.483\n",
      "   5 -> 0.481\n",
      "   6 -> 0.486\n",
      "  10 -> 0.503\n",
      "  15 -> 0.496\n",
      "  20 -> 0.500\n",
      "None -> 0.500\n"
     ]
    }
   ],
   "source": [
    " for depth in [1, 2, 3, 4, 5, 6, 10, 15, 20, None]:\n",
    "        dt = DecisionTreeClassifier(max_depth = depth)\n",
    "        dt.fit(X_train, y_train)\n",
    "        y_pred = dt.predict_proba(X_val) [:, 1]\n",
    "        auc = roc_auc_score(y_val, y_pred)\n",
    "        print('%4s -> %.3f' % (depth, auc))\n"
   ]
  },
  {
   "cell_type": "code",
   "execution_count": 203,
   "id": "cd593efe",
   "metadata": {},
   "outputs": [
    {
     "name": "stdout",
     "output_type": "stream",
     "text": [
      "depth: 1\n",
      "1 -> 0.504\n",
      "5 -> 0.504\n",
      "10 -> 0.504\n",
      "15 -> 0.504\n",
      "20 -> 0.504\n",
      "50 -> 0.504\n",
      "100 -> 0.504\n",
      "200 -> 0.504\n",
      "depth: 10\n",
      "1 -> 0.501\n",
      "5 -> 0.500\n",
      "10 -> 0.488\n",
      "15 -> 0.495\n",
      "20 -> 0.489\n",
      "50 -> 0.485\n",
      "100 -> 0.477\n",
      "200 -> 0.479\n",
      "depth: 20\n",
      "1 -> 0.500\n",
      "5 -> 0.499\n",
      "10 -> 0.484\n",
      "15 -> 0.495\n",
      "20 -> 0.492\n",
      "50 -> 0.486\n",
      "100 -> 0.477\n",
      "200 -> 0.479\n"
     ]
    }
   ],
   "source": [
    "for m in [1, 10, 20]:\n",
    "    print ('depth: %s' % m)\n",
    "    \n",
    "    for s in [1, 5, 10, 15, 20, 50, 100, 200]:\n",
    "        dt = DecisionTreeClassifier(max_depth = m, min_samples_leaf = s)\n",
    "        dt.fit(X_train, y_train)\n",
    "        y_pred = dt.predict_proba(X_val)[:, 1]\n",
    "        auc = roc_auc_score(y_val, y_pred)\n",
    "        print('%s -> %.3f' % (s, auc))"
   ]
  },
  {
   "cell_type": "code",
   "execution_count": 204,
   "id": "10dee0e1",
   "metadata": {},
   "outputs": [
    {
     "data": {
      "text/plain": [
       "0.48579126510928305"
      ]
     },
     "execution_count": 204,
     "metadata": {},
     "output_type": "execute_result"
    }
   ],
   "source": [
    "from sklearn.ensemble import RandomForestClassifier\n",
    "\n",
    "rf = RandomForestClassifier(n_estimators = 10)\n",
    "rf.fit(X_train, y_train)\n",
    "\n",
    "y_pred = rf.predict_proba(X_val)[:, 1]\n",
    "roc_auc_score(y_val, y_pred)"
   ]
  },
  {
   "cell_type": "code",
   "execution_count": 205,
   "id": "c09b4938",
   "metadata": {},
   "outputs": [
    {
     "data": {
      "text/html": [
       "<style>#sk-container-id-7 {color: black;background-color: white;}#sk-container-id-7 pre{padding: 0;}#sk-container-id-7 div.sk-toggleable {background-color: white;}#sk-container-id-7 label.sk-toggleable__label {cursor: pointer;display: block;width: 100%;margin-bottom: 0;padding: 0.3em;box-sizing: border-box;text-align: center;}#sk-container-id-7 label.sk-toggleable__label-arrow:before {content: \"▸\";float: left;margin-right: 0.25em;color: #696969;}#sk-container-id-7 label.sk-toggleable__label-arrow:hover:before {color: black;}#sk-container-id-7 div.sk-estimator:hover label.sk-toggleable__label-arrow:before {color: black;}#sk-container-id-7 div.sk-toggleable__content {max-height: 0;max-width: 0;overflow: hidden;text-align: left;background-color: #f0f8ff;}#sk-container-id-7 div.sk-toggleable__content pre {margin: 0.2em;color: black;border-radius: 0.25em;background-color: #f0f8ff;}#sk-container-id-7 input.sk-toggleable__control:checked~div.sk-toggleable__content {max-height: 200px;max-width: 100%;overflow: auto;}#sk-container-id-7 input.sk-toggleable__control:checked~label.sk-toggleable__label-arrow:before {content: \"▾\";}#sk-container-id-7 div.sk-estimator input.sk-toggleable__control:checked~label.sk-toggleable__label {background-color: #d4ebff;}#sk-container-id-7 div.sk-label input.sk-toggleable__control:checked~label.sk-toggleable__label {background-color: #d4ebff;}#sk-container-id-7 input.sk-hidden--visually {border: 0;clip: rect(1px 1px 1px 1px);clip: rect(1px, 1px, 1px, 1px);height: 1px;margin: -1px;overflow: hidden;padding: 0;position: absolute;width: 1px;}#sk-container-id-7 div.sk-estimator {font-family: monospace;background-color: #f0f8ff;border: 1px dotted black;border-radius: 0.25em;box-sizing: border-box;margin-bottom: 0.5em;}#sk-container-id-7 div.sk-estimator:hover {background-color: #d4ebff;}#sk-container-id-7 div.sk-parallel-item::after {content: \"\";width: 100%;border-bottom: 1px solid gray;flex-grow: 1;}#sk-container-id-7 div.sk-label:hover label.sk-toggleable__label {background-color: #d4ebff;}#sk-container-id-7 div.sk-serial::before {content: \"\";position: absolute;border-left: 1px solid gray;box-sizing: border-box;top: 0;bottom: 0;left: 50%;z-index: 0;}#sk-container-id-7 div.sk-serial {display: flex;flex-direction: column;align-items: center;background-color: white;padding-right: 0.2em;padding-left: 0.2em;position: relative;}#sk-container-id-7 div.sk-item {position: relative;z-index: 1;}#sk-container-id-7 div.sk-parallel {display: flex;align-items: stretch;justify-content: center;background-color: white;position: relative;}#sk-container-id-7 div.sk-item::before, #sk-container-id-7 div.sk-parallel-item::before {content: \"\";position: absolute;border-left: 1px solid gray;box-sizing: border-box;top: 0;bottom: 0;left: 50%;z-index: -1;}#sk-container-id-7 div.sk-parallel-item {display: flex;flex-direction: column;z-index: 1;position: relative;background-color: white;}#sk-container-id-7 div.sk-parallel-item:first-child::after {align-self: flex-end;width: 50%;}#sk-container-id-7 div.sk-parallel-item:last-child::after {align-self: flex-start;width: 50%;}#sk-container-id-7 div.sk-parallel-item:only-child::after {width: 0;}#sk-container-id-7 div.sk-dashed-wrapped {border: 1px dashed gray;margin: 0 0.4em 0.5em 0.4em;box-sizing: border-box;padding-bottom: 0.4em;background-color: white;}#sk-container-id-7 div.sk-label label {font-family: monospace;font-weight: bold;display: inline-block;line-height: 1.2em;}#sk-container-id-7 div.sk-label-container {text-align: center;}#sk-container-id-7 div.sk-container {/* jupyter's `normalize.less` sets `[hidden] { display: none; }` but bootstrap.min.css set `[hidden] { display: none !important; }` so we also need the `!important` here to be able to override the default hidden behavior on the sphinx rendered scikit-learn.org. See: https://github.com/scikit-learn/scikit-learn/issues/21755 */display: inline-block !important;position: relative;}#sk-container-id-7 div.sk-text-repr-fallback {display: none;}</style><div id=\"sk-container-id-7\" class=\"sk-top-container\"><div class=\"sk-text-repr-fallback\"><pre>DecisionTreeClassifier(max_depth=1, min_samples_leaf=5)</pre><b>In a Jupyter environment, please rerun this cell to show the HTML representation or trust the notebook. <br />On GitHub, the HTML representation is unable to render, please try loading this page with nbviewer.org.</b></div><div class=\"sk-container\" hidden><div class=\"sk-item\"><div class=\"sk-estimator sk-toggleable\"><input class=\"sk-toggleable__control sk-hidden--visually\" id=\"sk-estimator-id-7\" type=\"checkbox\" checked><label for=\"sk-estimator-id-7\" class=\"sk-toggleable__label sk-toggleable__label-arrow\">DecisionTreeClassifier</label><div class=\"sk-toggleable__content\"><pre>DecisionTreeClassifier(max_depth=1, min_samples_leaf=5)</pre></div></div></div></div></div>"
      ],
      "text/plain": [
       "DecisionTreeClassifier(max_depth=1, min_samples_leaf=5)"
      ]
     },
     "execution_count": 205,
     "metadata": {},
     "output_type": "execute_result"
    }
   ],
   "source": [
    "dt = DecisionTreeClassifier(max_depth = 1, min_samples_leaf = 5)\n",
    "dt.fit(X_train, y_train)"
   ]
  },
  {
   "cell_type": "code",
   "execution_count": 206,
   "id": "76d42749",
   "metadata": {},
   "outputs": [
    {
     "data": {
      "text/plain": [
       "0.49236375477798366"
      ]
     },
     "execution_count": 206,
     "metadata": {},
     "output_type": "execute_result"
    }
   ],
   "source": [
    "rf = RandomForestClassifier(n_estimators = 10, random_state = 7)\n",
    "rf.fit(X_train, y_train)\n",
    "\n",
    "y_pred = rf.predict_proba(X_val)[:, 1]\n",
    "roc_auc_score(y_val, y_pred)"
   ]
  },
  {
   "cell_type": "code",
   "execution_count": 207,
   "id": "ddbd9ae1",
   "metadata": {},
   "outputs": [
    {
     "name": "stdout",
     "output_type": "stream",
     "text": [
      "10 -> 0.490\n",
      "20 -> 0.487\n",
      "30 -> 0.489\n",
      "40 -> 0.483\n",
      "50 -> 0.482\n",
      "60 -> 0.478\n",
      "70 -> 0.478\n",
      "80 -> 0.480\n",
      "90 -> 0.479\n",
      "100 -> 0.478\n",
      "110 -> 0.477\n",
      "120 -> 0.480\n",
      "130 -> 0.480\n",
      "140 -> 0.480\n",
      "150 -> 0.480\n",
      "160 -> 0.478\n",
      "170 -> 0.478\n",
      "180 -> 0.478\n",
      "190 -> 0.478\n",
      "200 -> 0.479\n"
     ]
    }
   ],
   "source": [
    "aucs = []\n",
    "\n",
    "for i in range(10, 201, 10):\n",
    "    rf = RandomForestClassifier(n_estimators = i, random_state = 3)\n",
    "    rf.fit(X_train, y_train)\n",
    "    \n",
    "    y_pred = rf.predict_proba(X_val) [:, 1]\n",
    "    auc = roc_auc_score(y_val, y_pred)\n",
    "    print('%s -> %.3f' % (i, auc))\n",
    "    \n",
    "    aucs.append(auc)"
   ]
  },
  {
   "cell_type": "code",
   "execution_count": 208,
   "id": "127e7f4a",
   "metadata": {},
   "outputs": [
    {
     "data": {
      "text/plain": [
       "[<matplotlib.lines.Line2D at 0x1743d905d60>]"
      ]
     },
     "execution_count": 208,
     "metadata": {},
     "output_type": "execute_result"
    },
    {
     "data": {
      "image/png": "[encoded data removed]",
      "text/plain": [
       "<Figure size 432x288 with 1 Axes>"
      ]
     },
     "metadata": {
      "needs_background": "light"
     },
     "output_type": "display_data"
    }
   ],
   "source": [
    "plt.plot(range(10, 201, 10), aucs)"
   ]
  },
  {
   "cell_type": "code",
   "execution_count": 209,
   "id": "e59a225a",
   "metadata": {},
   "outputs": [
    {
     "name": "stdout",
     "output_type": "stream",
     "text": [
      "depth: 5\n",
      "10 -> 0.473\n",
      "20 -> 0.476\n",
      "30 -> 0.475\n",
      "40 -> 0.475\n",
      "50 -> 0.475\n",
      "60 -> 0.475\n",
      "70 -> 0.473\n",
      "80 -> 0.473\n",
      "90 -> 0.473\n",
      "100 -> 0.473\n",
      "110 -> 0.473\n",
      "120 -> 0.473\n",
      "130 -> 0.474\n",
      "140 -> 0.473\n",
      "150 -> 0.473\n",
      "160 -> 0.474\n",
      "170 -> 0.474\n",
      "180 -> 0.474\n",
      "190 -> 0.474\n",
      "200 -> 0.474\n",
      "\n",
      "depth: 10\n",
      "10 -> 0.488\n",
      "20 -> 0.481\n",
      "30 -> 0.479\n",
      "40 -> 0.481\n",
      "50 -> 0.481\n",
      "60 -> 0.482\n",
      "70 -> 0.482\n",
      "80 -> 0.481\n",
      "90 -> 0.482\n",
      "100 -> 0.482\n",
      "110 -> 0.484\n",
      "120 -> 0.485\n",
      "130 -> 0.485\n",
      "140 -> 0.485\n",
      "150 -> 0.484\n",
      "160 -> 0.484\n",
      "170 -> 0.484\n",
      "180 -> 0.483\n",
      "190 -> 0.483\n",
      "200 -> 0.483\n",
      "\n",
      "depth: 20\n",
      "10 -> 0.493\n",
      "20 -> 0.485\n",
      "30 -> 0.488\n",
      "40 -> 0.484\n",
      "50 -> 0.481\n",
      "60 -> 0.481\n",
      "70 -> 0.483\n",
      "80 -> 0.484\n",
      "90 -> 0.483\n",
      "100 -> 0.481\n",
      "110 -> 0.481\n",
      "120 -> 0.482\n",
      "130 -> 0.483\n",
      "140 -> 0.483\n",
      "150 -> 0.483\n",
      "160 -> 0.482\n",
      "170 -> 0.482\n",
      "180 -> 0.483\n",
      "190 -> 0.483\n",
      "200 -> 0.481\n",
      "\n"
     ]
    }
   ],
   "source": [
    "all_aucs = {}\n",
    "\n",
    "for depth in [5, 10, 20]:\n",
    "    print('depth: %s' % depth)\n",
    "    aucs = []\n",
    "    \n",
    "    for i in range (10, 201, 10):\n",
    "        rf = RandomForestClassifier(n_estimators = i, max_depth = depth, random_state = 1)\n",
    "        rf.fit(X_train, y_train)\n",
    "        y_pred = rf.predict_proba(X_val)[:, 1]\n",
    "        auc = roc_auc_score(y_val, y_pred)\n",
    "        print('%s -> %.3f' % (i, auc))\n",
    "        aucs.append(auc)\n",
    "        \n",
    "    all_aucs[depth] = aucs\n",
    "    print()"
   ]
  },
  {
   "cell_type": "code",
   "execution_count": 210,
   "id": "6656aeb5",
   "metadata": {},
   "outputs": [
    {
     "data": {
      "text/plain": [
       "<matplotlib.legend.Legend at 0x1743bacce80>"
      ]
     },
     "execution_count": 210,
     "metadata": {},
     "output_type": "execute_result"
    },
    {
     "data": {
      "image/png": "[encoded data removed]",
      "text/plain": [
       "<Figure size 432x288 with 1 Axes>"
      ]
     },
     "metadata": {
      "needs_background": "light"
     },
     "output_type": "display_data"
    }
   ],
   "source": [
    "num_trees = list(range(10, 201, 10))\n",
    "\n",
    "plt.plot(num_trees, all_aucs[5], label = 'depth = 5')\n",
    "plt.plot(num_trees, all_aucs[10], label = 'depth = 10')\n",
    "plt.plot(num_trees, all_aucs[20], label = 'depth = 20')\n",
    "plt.legend()\n"
   ]
  },
  {
   "cell_type": "code",
   "execution_count": 211,
   "id": "dc95144e",
   "metadata": {},
   "outputs": [
    {
     "name": "stdout",
     "output_type": "stream",
     "text": [
      "min_samples_leaf: 3\n",
      "10 -> 0.482\n",
      "30 -> 0.481\n",
      "50 -> 0.478\n",
      "70 -> 0.479\n",
      "90 -> 0.479\n",
      "110 -> 0.479\n",
      "130 -> 0.479\n",
      "150 -> 0.479\n",
      "170 -> 0.478\n",
      "190 -> 0.478\n",
      "\n",
      "min_samples_leaf: 5\n",
      "10 -> 0.481\n",
      "30 -> 0.480\n",
      "50 -> 0.479\n",
      "70 -> 0.480\n",
      "90 -> 0.480\n",
      "110 -> 0.480\n",
      "130 -> 0.480\n",
      "150 -> 0.481\n",
      "170 -> 0.480\n",
      "190 -> 0.480\n",
      "\n",
      "min_samples_leaf: 10\n",
      "10 -> 0.481\n",
      "30 -> 0.477\n",
      "50 -> 0.476\n",
      "70 -> 0.475\n",
      "90 -> 0.475\n",
      "110 -> 0.476\n",
      "130 -> 0.476\n",
      "150 -> 0.476\n",
      "170 -> 0.476\n",
      "190 -> 0.476\n",
      "\n"
     ]
    }
   ],
   "source": [
    "all_aucs = {}\n",
    "\n",
    "for m in [3, 5, 10]:\n",
    "    print('min_samples_leaf: %s' % m)\n",
    "    aucs = []\n",
    "    \n",
    "    for i in range(10, 201, 20):\n",
    "        rf = RandomForestClassifier(n_estimators = i, max_depth = 10, min_samples_leaf = m, random_state = 1)\n",
    "        rf.fit(X_train, y_train)\n",
    "        y_pred = rf.predict_proba(X_val)[:, 1]\n",
    "        auc = roc_auc_score(y_val, y_pred)\n",
    "        print('%s -> %.3f' % (i, auc))\n",
    "        aucs.append(auc)\n",
    "        \n",
    "    all_aucs[m] = aucs\n",
    "    print()"
   ]
  },
  {
   "cell_type": "code",
   "execution_count": 212,
   "id": "83245134",
   "metadata": {},
   "outputs": [
    {
     "data": {
      "text/plain": [
       "<matplotlib.legend.Legend at 0x1743eab8c10>"
      ]
     },
     "execution_count": 212,
     "metadata": {},
     "output_type": "execute_result"
    },
    {
     "data": {
      "image/png": "[encoded data removed]",
      "text/plain": [
       "<Figure size 432x288 with 1 Axes>"
      ]
     },
     "metadata": {
      "needs_background": "light"
     },
     "output_type": "display_data"
    }
   ],
   "source": [
    "num_trees = list(range(10, 201, 20))\n",
    "plt.plot(num_trees, all_aucs[3], label = 'min_samples_leaf = 3')\n",
    "plt.plot(num_trees, all_aucs[5], label = 'min_samples_leaf = 5')\n",
    "plt.plot(num_trees, all_aucs[10], label = 'min_samples_leaf = 10')\n",
    "plt.legend()"
   ]
  },
  {
   "cell_type": "code",
   "execution_count": 213,
   "id": "018ac575",
   "metadata": {},
   "outputs": [],
   "source": [
    "#Gradient boosting\n",
    "import xgboost as xgb"
   ]
  },
  {
   "cell_type": "code",
   "execution_count": 214,
   "id": "695582c5",
   "metadata": {},
   "outputs": [],
   "source": [
    "dtrain = xgb.DMatrix(X_train, label = y_train, feature_names = dv.feature_names_)\n",
    "dval = xgb.DMatrix(X_val, label = y_val, feature_names = dv.feature_names_)"
   ]
  },
  {
   "cell_type": "code",
   "execution_count": 215,
   "id": "66fc90c3",
   "metadata": {},
   "outputs": [],
   "source": [
    "#Specifying training parameters\n",
    "xgb_params = {\n",
    "    'eta': 0.3,\n",
    "    'max_depth': 6,\n",
    "    'min_child_weight': 1,\n",
    "    \n",
    "    'object': 'binary:logistic',\n",
    "    'nthread': 2,\n",
    "    'seed': 1,\n",
    "    'silent': 1\n",
    "}"
   ]
  },
  {
   "cell_type": "code",
   "execution_count": 216,
   "id": "104a5f81",
   "metadata": {},
   "outputs": [
    {
     "name": "stdout",
     "output_type": "stream",
     "text": [
      "[04:31:16] WARNING: D:\\bld\\xgboost-split_1660208973102\\work\\src\\learner.cc:627: \n",
      "Parameters: { \"object\", \"silent\" } might not be used.\n",
      "\n",
      "  This could be a false alarm, with some parameters getting used by language bindings but\n",
      "  then being mistakenly passed down to XGBoost core, or some parameter actually being used\n",
      "  but getting flagged wrongly here. Please open an issue if you find any such cases.\n",
      "\n",
      "\n"
     ]
    }
   ],
   "source": [
    "model = xgb.train(xgb_params, dtrain, num_boost_round = 10)"
   ]
  },
  {
   "cell_type": "code",
   "execution_count": 217,
   "id": "db764733",
   "metadata": {},
   "outputs": [
    {
     "data": {
      "text/plain": [
       "array([0.09359038, 0.30647546, 0.07531515, 0.18516193, 0.322989  ,\n",
       "       0.12860909, 0.5795314 , 0.6687297 , 0.22300881, 0.2360373 ],\n",
       "      dtype=float32)"
      ]
     },
     "execution_count": 217,
     "metadata": {},
     "output_type": "execute_result"
    }
   ],
   "source": [
    "y_pred = model.predict(dval)\n",
    "y_pred[:10]"
   ]
  },
  {
   "cell_type": "code",
   "execution_count": 218,
   "id": "1ae9c9ed",
   "metadata": {},
   "outputs": [
    {
     "data": {
      "text/plain": [
       "0.48827155229226915"
      ]
     },
     "execution_count": 218,
     "metadata": {},
     "output_type": "execute_result"
    }
   ],
   "source": [
    "roc_auc_score(y_val, y_pred)"
   ]
  },
  {
   "cell_type": "code",
   "execution_count": 219,
   "id": "46ece30f",
   "metadata": {},
   "outputs": [],
   "source": [
    "watchlist = [(dtrain, 'train'), (dval, 'val')]"
   ]
  },
  {
   "cell_type": "code",
   "execution_count": 220,
   "id": "86470218",
   "metadata": {},
   "outputs": [],
   "source": [
    "#Parameter tuning - eta\n",
    "xgb_params = {\n",
    "    'eta': 0.3,\n",
    "    'max_depth': 6,\n",
    "    'min_child_weight': 1,\n",
    "    \n",
    "    'object': 'binary:logistic',\n",
    "    'eval_metric': 'auc',\n",
    "    'nthread': 2,\n",
    "    'seed': 1,\n",
    "    'silent': 1\n",
    "}"
   ]
  },
  {
   "cell_type": "code",
   "execution_count": 221,
   "id": "b4c8a488",
   "metadata": {},
   "outputs": [
    {
     "name": "stdout",
     "output_type": "stream",
     "text": [
      "[04:31:16] WARNING: D:\\bld\\xgboost-split_1660208973102\\work\\src\\learner.cc:627: \n",
      "Parameters: { \"object\", \"silent\" } might not be used.\n",
      "\n",
      "  This could be a false alarm, with some parameters getting used by language bindings but\n",
      "  then being mistakenly passed down to XGBoost core, or some parameter actually being used\n",
      "  but getting flagged wrongly here. Please open an issue if you find any such cases.\n",
      "\n",
      "\n",
      "[0]\ttrain-auc:0.88140\tval-auc:0.48787\n",
      "[10]\ttrain-auc:0.97873\tval-auc:0.48840\n",
      "[20]\ttrain-auc:0.98919\tval-auc:0.48440\n",
      "[30]\ttrain-auc:0.99719\tval-auc:0.48833\n",
      "[40]\ttrain-auc:0.99923\tval-auc:0.49209\n",
      "[50]\ttrain-auc:0.99989\tval-auc:0.49245\n",
      "[60]\ttrain-auc:0.99996\tval-auc:0.49059\n",
      "[70]\ttrain-auc:1.00000\tval-auc:0.49110\n",
      "[80]\ttrain-auc:1.00000\tval-auc:0.48756\n",
      "[90]\ttrain-auc:1.00000\tval-auc:0.48880\n",
      "[99]\ttrain-auc:1.00000\tval-auc:0.48847\n"
     ]
    }
   ],
   "source": [
    "model = xgb.train(xgb_params, dtrain, num_boost_round = 100, evals = watchlist, verbose_eval = 10)"
   ]
  },
  {
   "cell_type": "code",
   "execution_count": 222,
   "id": "5a93ef40",
   "metadata": {},
   "outputs": [],
   "source": [
    "xgb_params = {\n",
    "    'eta': 0.1,\n",
    "    'max_depth': 6,\n",
    "    'min_child_weight': 1,\n",
    "    \n",
    "    'object': 'binary:logistic',\n",
    "    'eval_metric': 'auc',\n",
    "    'nthread': 2,\n",
    "    'seed': 1,\n",
    "    'silent': 1\n",
    "}"
   ]
  },
  {
   "cell_type": "code",
   "execution_count": 233,
   "id": "7f6facce",
   "metadata": {
    "scrolled": true
   },
   "outputs": [
    {
     "name": "stdout",
     "output_type": "stream",
     "text": [
      "[04:36:26] WARNING: D:\\bld\\xgboost-split_1660208973102\\work\\src\\learner.cc:627: \n",
      "Parameters: { \"object\", \"silent\" } might not be used.\n",
      "\n",
      "  This could be a false alarm, with some parameters getting used by language bindings but\n",
      "  then being mistakenly passed down to XGBoost core, or some parameter actually being used\n",
      "  but getting flagged wrongly here. Please open an issue if you find any such cases.\n",
      "\n",
      "\n",
      "[0]\ttrain-auc:0.78005\tval-auc:0.48782\n",
      "[10]\ttrain-auc:0.84289\tval-auc:0.47366\n",
      "[20]\ttrain-auc:0.86542\tval-auc:0.47591\n",
      "[30]\ttrain-auc:0.88387\tval-auc:0.47620\n",
      "[40]\ttrain-auc:0.89502\tval-auc:0.47629\n",
      "[50]\ttrain-auc:0.90266\tval-auc:0.47658\n",
      "[60]\ttrain-auc:0.90932\tval-auc:0.47724\n",
      "[70]\ttrain-auc:0.91529\tval-auc:0.47857\n",
      "[80]\ttrain-auc:0.91870\tval-auc:0.47883\n",
      "[90]\ttrain-auc:0.92225\tval-auc:0.47871\n",
      "[100]\ttrain-auc:0.92455\tval-auc:0.47859\n",
      "[110]\ttrain-auc:0.92718\tval-auc:0.47880\n",
      "[120]\ttrain-auc:0.92915\tval-auc:0.47850\n",
      "[130]\ttrain-auc:0.93273\tval-auc:0.47803\n",
      "[140]\ttrain-auc:0.93615\tval-auc:0.47833\n",
      "[150]\ttrain-auc:0.93867\tval-auc:0.47859\n",
      "[160]\ttrain-auc:0.94131\tval-auc:0.47777\n",
      "[170]\ttrain-auc:0.94336\tval-auc:0.47782\n",
      "[180]\ttrain-auc:0.94524\tval-auc:0.47811\n",
      "[190]\ttrain-auc:0.94699\tval-auc:0.47809\n",
      "[200]\ttrain-auc:0.94933\tval-auc:0.47884\n",
      "[210]\ttrain-auc:0.95129\tval-auc:0.47957\n",
      "[220]\ttrain-auc:0.95346\tval-auc:0.48004\n",
      "[230]\ttrain-auc:0.95495\tval-auc:0.47968\n",
      "[240]\ttrain-auc:0.95690\tval-auc:0.47989\n",
      "[250]\ttrain-auc:0.95852\tval-auc:0.48021\n",
      "[260]\ttrain-auc:0.96048\tval-auc:0.47988\n",
      "[270]\ttrain-auc:0.96248\tval-auc:0.48008\n",
      "[280]\ttrain-auc:0.96403\tval-auc:0.48084\n",
      "[290]\ttrain-auc:0.96513\tval-auc:0.48133\n",
      "[300]\ttrain-auc:0.96677\tval-auc:0.48165\n",
      "[310]\ttrain-auc:0.96898\tval-auc:0.48249\n",
      "[320]\ttrain-auc:0.96996\tval-auc:0.48260\n",
      "[330]\ttrain-auc:0.97086\tval-auc:0.48344\n",
      "[340]\ttrain-auc:0.97243\tval-auc:0.48355\n",
      "[350]\ttrain-auc:0.97373\tval-auc:0.48380\n",
      "[360]\ttrain-auc:0.97468\tval-auc:0.48409\n",
      "[370]\ttrain-auc:0.97584\tval-auc:0.48374\n",
      "[380]\ttrain-auc:0.97665\tval-auc:0.48468\n",
      "[390]\ttrain-auc:0.97730\tval-auc:0.48511\n",
      "[400]\ttrain-auc:0.97847\tval-auc:0.48648\n",
      "[410]\ttrain-auc:0.97940\tval-auc:0.48618\n",
      "[420]\ttrain-auc:0.98022\tval-auc:0.48701\n",
      "[430]\ttrain-auc:0.98095\tval-auc:0.48671\n",
      "[440]\ttrain-auc:0.98199\tval-auc:0.48724\n",
      "[450]\ttrain-auc:0.98286\tval-auc:0.48776\n",
      "[460]\ttrain-auc:0.98350\tval-auc:0.48785\n",
      "[470]\ttrain-auc:0.98452\tval-auc:0.48741\n",
      "[480]\ttrain-auc:0.98522\tval-auc:0.48750\n",
      "[490]\ttrain-auc:0.98611\tval-auc:0.48758\n",
      "[499]\ttrain-auc:0.98664\tval-auc:0.48749\n"
     ]
    }
   ],
   "source": [
    "model = xgb.train(xgb_params, dtrain, num_boost_round = 500, evals = watchlist, verbose_eval = 10)"
   ]
  },
  {
   "cell_type": "code",
   "execution_count": 237,
   "id": "b9248acc",
   "metadata": {},
   "outputs": [
    {
     "name": "stdout",
     "output_type": "stream",
     "text": [
      "[04:46:27] WARNING: D:\\bld\\xgboost-split_1660208973102\\work\\src\\learner.cc:627: \n",
      "Parameters: { \"object\", \"silent\" } might not be used.\n",
      "\n",
      "  This could be a false alarm, with some parameters getting used by language bindings but\n",
      "  then being mistakenly passed down to XGBoost core, or some parameter actually being used\n",
      "  but getting flagged wrongly here. Please open an issue if you find any such cases.\n",
      "\n",
      "\n",
      "[0]\ttrain-auc:0.78005\tval-auc:0.48782\n",
      "[10]\ttrain-auc:0.88247\tval-auc:0.48051\n",
      "[20]\ttrain-auc:0.90702\tval-auc:0.48046\n",
      "[30]\ttrain-auc:0.92102\tval-auc:0.48086\n",
      "[40]\ttrain-auc:0.93025\tval-auc:0.48162\n",
      "[50]\ttrain-auc:0.93820\tval-auc:0.48323\n",
      "[60]\ttrain-auc:0.94521\tval-auc:0.48689\n",
      "[70]\ttrain-auc:0.95375\tval-auc:0.48558\n",
      "[80]\ttrain-auc:0.95960\tval-auc:0.48479\n",
      "[90]\ttrain-auc:0.96718\tval-auc:0.48715\n",
      "[100]\ttrain-auc:0.97172\tval-auc:0.48699\n",
      "[110]\ttrain-auc:0.97503\tval-auc:0.48990\n",
      "[120]\ttrain-auc:0.97798\tval-auc:0.48949\n",
      "[130]\ttrain-auc:0.98039\tval-auc:0.49049\n",
      "[140]\ttrain-auc:0.98400\tval-auc:0.49098\n",
      "[150]\ttrain-auc:0.98588\tval-auc:0.49099\n",
      "[160]\ttrain-auc:0.98826\tval-auc:0.49171\n",
      "[170]\ttrain-auc:0.98987\tval-auc:0.49188\n",
      "[180]\ttrain-auc:0.99114\tval-auc:0.49333\n",
      "[190]\ttrain-auc:0.99242\tval-auc:0.49430\n",
      "[200]\ttrain-auc:0.99335\tval-auc:0.49496\n",
      "[210]\ttrain-auc:0.99480\tval-auc:0.49568\n",
      "[220]\ttrain-auc:0.99596\tval-auc:0.49452\n",
      "[230]\ttrain-auc:0.99664\tval-auc:0.49443\n",
      "[240]\ttrain-auc:0.99732\tval-auc:0.49504\n",
      "[250]\ttrain-auc:0.99791\tval-auc:0.49530\n",
      "[260]\ttrain-auc:0.99849\tval-auc:0.49380\n",
      "[270]\ttrain-auc:0.99867\tval-auc:0.49353\n",
      "[280]\ttrain-auc:0.99905\tval-auc:0.49395\n",
      "[290]\ttrain-auc:0.99929\tval-auc:0.49271\n",
      "[300]\ttrain-auc:0.99941\tval-auc:0.49270\n",
      "[310]\ttrain-auc:0.99952\tval-auc:0.49279\n",
      "[320]\ttrain-auc:0.99967\tval-auc:0.49163\n",
      "[330]\ttrain-auc:0.99972\tval-auc:0.49090\n",
      "[340]\ttrain-auc:0.99977\tval-auc:0.48977\n",
      "[350]\ttrain-auc:0.99981\tval-auc:0.48907\n",
      "[360]\ttrain-auc:0.99983\tval-auc:0.48874\n",
      "[370]\ttrain-auc:0.99987\tval-auc:0.48993\n",
      "[380]\ttrain-auc:0.99993\tval-auc:0.48905\n",
      "[390]\ttrain-auc:0.99995\tval-auc:0.48957\n",
      "[400]\ttrain-auc:0.99997\tval-auc:0.49020\n",
      "[410]\ttrain-auc:0.99997\tval-auc:0.48992\n",
      "[420]\ttrain-auc:0.99998\tval-auc:0.48956\n",
      "[430]\ttrain-auc:0.99998\tval-auc:0.49014\n",
      "[440]\ttrain-auc:0.99998\tval-auc:0.49107\n",
      "[450]\ttrain-auc:0.99999\tval-auc:0.49150\n",
      "[460]\ttrain-auc:0.99999\tval-auc:0.49054\n",
      "[470]\ttrain-auc:0.99999\tval-auc:0.49135\n",
      "[480]\ttrain-auc:1.00000\tval-auc:0.49140\n",
      "[490]\ttrain-auc:1.00000\tval-auc:0.49177\n",
      "[499]\ttrain-auc:1.00000\tval-auc:0.49042\n"
     ]
    }
   ],
   "source": [
    "#Max depth\n",
    "xgb_params = {\n",
    "    'eta': 0.3,\n",
    "    'max_depth': 3,\n",
    "    'min_child_weight': 1,\n",
    "    \n",
    "    'object': 'binary:logistic',\n",
    "    'eval_metric': 'auc',\n",
    "    'nthread': 2,\n",
    "    'seed': 1,\n",
    "    'silent': 1\n",
    "}\n",
    "\n",
    "\n",
    "model = xgb.train(xgb_params, dtrain, num_boost_round = 500, evals = watchlist, verbose_eval = 10)"
   ]
  },
  {
   "cell_type": "code",
   "execution_count": 238,
   "id": "0c969489",
   "metadata": {},
   "outputs": [
    {
     "name": "stdout",
     "output_type": "stream",
     "text": [
      "[04:46:43] WARNING: D:\\bld\\xgboost-split_1660208973102\\work\\src\\learner.cc:627: \n",
      "Parameters: { \"object\", \"silent\" } might not be used.\n",
      "\n",
      "  This could be a false alarm, with some parameters getting used by language bindings but\n",
      "  then being mistakenly passed down to XGBoost core, or some parameter actually being used\n",
      "  but getting flagged wrongly here. Please open an issue if you find any such cases.\n",
      "\n",
      "\n",
      "[0]\ttrain-auc:0.81546\tval-auc:0.48284\n",
      "[10]\ttrain-auc:0.91878\tval-auc:0.47591\n",
      "[20]\ttrain-auc:0.94217\tval-auc:0.47731\n",
      "[30]\ttrain-auc:0.95355\tval-auc:0.48121\n",
      "[40]\ttrain-auc:0.96482\tval-auc:0.48464\n",
      "[50]\ttrain-auc:0.97312\tval-auc:0.48237\n",
      "[60]\ttrain-auc:0.98232\tval-auc:0.48534\n",
      "[70]\ttrain-auc:0.98787\tval-auc:0.48731\n",
      "[80]\ttrain-auc:0.99349\tval-auc:0.48485\n",
      "[90]\ttrain-auc:0.99607\tval-auc:0.48773\n",
      "[100]\ttrain-auc:0.99721\tval-auc:0.48849\n",
      "[110]\ttrain-auc:0.99789\tval-auc:0.48855\n",
      "[120]\ttrain-auc:0.99869\tval-auc:0.48929\n",
      "[130]\ttrain-auc:0.99896\tval-auc:0.48888\n",
      "[140]\ttrain-auc:0.99943\tval-auc:0.48753\n",
      "[150]\ttrain-auc:0.99973\tval-auc:0.48519\n",
      "[160]\ttrain-auc:0.99991\tval-auc:0.48777\n",
      "[170]\ttrain-auc:0.99996\tval-auc:0.48941\n",
      "[180]\ttrain-auc:0.99998\tval-auc:0.49217\n",
      "[190]\ttrain-auc:1.00000\tval-auc:0.49368\n",
      "[200]\ttrain-auc:1.00000\tval-auc:0.49357\n",
      "[210]\ttrain-auc:1.00000\tval-auc:0.49524\n",
      "[220]\ttrain-auc:1.00000\tval-auc:0.49542\n",
      "[230]\ttrain-auc:1.00000\tval-auc:0.49744\n",
      "[240]\ttrain-auc:1.00000\tval-auc:0.49689\n",
      "[250]\ttrain-auc:1.00000\tval-auc:0.49858\n",
      "[260]\ttrain-auc:1.00000\tval-auc:0.49937\n",
      "[270]\ttrain-auc:1.00000\tval-auc:0.49951\n",
      "[280]\ttrain-auc:1.00000\tval-auc:0.49885\n",
      "[290]\ttrain-auc:1.00000\tval-auc:0.50032\n",
      "[300]\ttrain-auc:1.00000\tval-auc:0.50236\n",
      "[310]\ttrain-auc:1.00000\tval-auc:0.50297\n",
      "[320]\ttrain-auc:1.00000\tval-auc:0.50091\n",
      "[330]\ttrain-auc:1.00000\tval-auc:0.50106\n",
      "[340]\ttrain-auc:1.00000\tval-auc:0.50295\n",
      "[350]\ttrain-auc:1.00000\tval-auc:0.50353\n",
      "[360]\ttrain-auc:1.00000\tval-auc:0.50353\n",
      "[370]\ttrain-auc:1.00000\tval-auc:0.50316\n",
      "[380]\ttrain-auc:1.00000\tval-auc:0.50190\n",
      "[390]\ttrain-auc:1.00000\tval-auc:0.50130\n",
      "[400]\ttrain-auc:1.00000\tval-auc:0.50337\n",
      "[410]\ttrain-auc:1.00000\tval-auc:0.50280\n",
      "[420]\ttrain-auc:1.00000\tval-auc:0.50490\n",
      "[430]\ttrain-auc:1.00000\tval-auc:0.50379\n",
      "[440]\ttrain-auc:1.00000\tval-auc:0.50139\n",
      "[450]\ttrain-auc:1.00000\tval-auc:0.50065\n",
      "[460]\ttrain-auc:1.00000\tval-auc:0.50118\n",
      "[470]\ttrain-auc:1.00000\tval-auc:0.50330\n",
      "[480]\ttrain-auc:1.00000\tval-auc:0.50360\n",
      "[490]\ttrain-auc:1.00000\tval-auc:0.50410\n",
      "[499]\ttrain-auc:1.00000\tval-auc:0.50232\n"
     ]
    }
   ],
   "source": [
    "xgb_params = {\n",
    "    'eta': 0.3,\n",
    "    'max_depth': 4,\n",
    "    'min_child_weight': 1,\n",
    "    \n",
    "    'object': 'binary:logistic',\n",
    "    'eval_metric': 'auc',\n",
    "    'nthread': 2,\n",
    "    'seed': 1,\n",
    "    'silent': 1\n",
    "}\n",
    "\n",
    "\n",
    "model = xgb.train(xgb_params, dtrain, num_boost_round = 500, evals = watchlist, verbose_eval = 10)"
   ]
  },
  {
   "cell_type": "code",
   "execution_count": 239,
   "id": "715b1228",
   "metadata": {},
   "outputs": [
    {
     "name": "stdout",
     "output_type": "stream",
     "text": [
      "[04:47:16] WARNING: D:\\bld\\xgboost-split_1660208973102\\work\\src\\learner.cc:627: \n",
      "Parameters: { \"object\", \"silent\" } might not be used.\n",
      "\n",
      "  This could be a false alarm, with some parameters getting used by language bindings but\n",
      "  then being mistakenly passed down to XGBoost core, or some parameter actually being used\n",
      "  but getting flagged wrongly here. Please open an issue if you find any such cases.\n",
      "\n",
      "\n",
      "[0]\ttrain-auc:0.87659\tval-auc:0.48770\n",
      "[10]\ttrain-auc:0.96955\tval-auc:0.48523\n",
      "[20]\ttrain-auc:0.98769\tval-auc:0.49074\n",
      "[30]\ttrain-auc:0.99380\tval-auc:0.48699\n",
      "[40]\ttrain-auc:0.99785\tval-auc:0.49368\n",
      "[50]\ttrain-auc:0.99921\tval-auc:0.49152\n",
      "[60]\ttrain-auc:0.99981\tval-auc:0.49286\n",
      "[70]\ttrain-auc:0.99997\tval-auc:0.49699\n",
      "[80]\ttrain-auc:0.99999\tval-auc:0.49640\n",
      "[90]\ttrain-auc:1.00000\tval-auc:0.49944\n",
      "[100]\ttrain-auc:1.00000\tval-auc:0.50210\n",
      "[110]\ttrain-auc:1.00000\tval-auc:0.50174\n",
      "[120]\ttrain-auc:1.00000\tval-auc:0.50169\n",
      "[130]\ttrain-auc:1.00000\tval-auc:0.50076\n",
      "[140]\ttrain-auc:1.00000\tval-auc:0.49928\n",
      "[150]\ttrain-auc:1.00000\tval-auc:0.49951\n",
      "[160]\ttrain-auc:1.00000\tval-auc:0.50352\n",
      "[170]\ttrain-auc:1.00000\tval-auc:0.50283\n",
      "[180]\ttrain-auc:1.00000\tval-auc:0.50319\n",
      "[190]\ttrain-auc:1.00000\tval-auc:0.50121\n",
      "[200]\ttrain-auc:1.00000\tval-auc:0.50286\n",
      "[210]\ttrain-auc:1.00000\tval-auc:0.50462\n",
      "[220]\ttrain-auc:1.00000\tval-auc:0.50491\n",
      "[230]\ttrain-auc:1.00000\tval-auc:0.50223\n",
      "[240]\ttrain-auc:1.00000\tval-auc:0.50353\n",
      "[250]\ttrain-auc:1.00000\tval-auc:0.50588\n",
      "[260]\ttrain-auc:1.00000\tval-auc:0.50396\n",
      "[270]\ttrain-auc:1.00000\tval-auc:0.50338\n",
      "[280]\ttrain-auc:1.00000\tval-auc:0.50470\n",
      "[290]\ttrain-auc:1.00000\tval-auc:0.50511\n",
      "[300]\ttrain-auc:1.00000\tval-auc:0.49806\n",
      "[310]\ttrain-auc:1.00000\tval-auc:0.49920\n",
      "[320]\ttrain-auc:1.00000\tval-auc:0.50077\n",
      "[330]\ttrain-auc:1.00000\tval-auc:0.50077\n",
      "[340]\ttrain-auc:1.00000\tval-auc:0.49700\n",
      "[350]\ttrain-auc:1.00000\tval-auc:0.49394\n",
      "[360]\ttrain-auc:1.00000\tval-auc:0.49386\n",
      "[370]\ttrain-auc:1.00000\tval-auc:0.49270\n",
      "[380]\ttrain-auc:1.00000\tval-auc:0.49344\n",
      "[390]\ttrain-auc:1.00000\tval-auc:0.48680\n",
      "[400]\ttrain-auc:1.00000\tval-auc:0.48918\n",
      "[410]\ttrain-auc:1.00000\tval-auc:0.48849\n",
      "[420]\ttrain-auc:1.00000\tval-auc:0.48994\n",
      "[430]\ttrain-auc:1.00000\tval-auc:0.49310\n",
      "[440]\ttrain-auc:1.00000\tval-auc:0.49189\n",
      "[450]\ttrain-auc:1.00000\tval-auc:0.49210\n",
      "[460]\ttrain-auc:1.00000\tval-auc:0.49510\n",
      "[470]\ttrain-auc:1.00000\tval-auc:0.49919\n",
      "[480]\ttrain-auc:1.00000\tval-auc:0.49993\n",
      "[490]\ttrain-auc:1.00000\tval-auc:0.49892\n",
      "[499]\ttrain-auc:1.00000\tval-auc:0.49892\n"
     ]
    }
   ],
   "source": [
    "#minimum child weight\n",
    "xgb_params = {\n",
    "    'eta': 0.3,\n",
    "    'max_depth': 6,\n",
    "    'min_child_weight': 5,\n",
    "    \n",
    "    'object': 'binary:logistic',\n",
    "    'eval_metric': 'auc',\n",
    "    'nthread': 2,\n",
    "    'seed': 1,\n",
    "    'silent': 1\n",
    "}\n",
    "\n",
    "\n",
    "model = xgb.train(xgb_params, dtrain, num_boost_round = 500, evals = watchlist, verbose_eval = 10)"
   ]
  },
  {
   "cell_type": "code",
   "execution_count": 240,
   "id": "f8e9266b",
   "metadata": {},
   "outputs": [
    {
     "name": "stdout",
     "output_type": "stream",
     "text": [
      "[04:48:30] WARNING: D:\\bld\\xgboost-split_1660208973102\\work\\src\\learner.cc:627: \n",
      "Parameters: { \"object\", \"silent\" } might not be used.\n",
      "\n",
      "  This could be a false alarm, with some parameters getting used by language bindings but\n",
      "  then being mistakenly passed down to XGBoost core, or some parameter actually being used\n",
      "  but getting flagged wrongly here. Please open an issue if you find any such cases.\n",
      "\n",
      "\n",
      "[0]\ttrain-auc:0.88140\tval-auc:0.48787\n",
      "[10]\ttrain-auc:0.97873\tval-auc:0.48840\n",
      "[20]\ttrain-auc:0.98919\tval-auc:0.48440\n",
      "[30]\ttrain-auc:0.99719\tval-auc:0.48833\n",
      "[40]\ttrain-auc:0.99923\tval-auc:0.49209\n",
      "[50]\ttrain-auc:0.99989\tval-auc:0.49245\n",
      "[60]\ttrain-auc:0.99996\tval-auc:0.49059\n",
      "[70]\ttrain-auc:1.00000\tval-auc:0.49110\n",
      "[80]\ttrain-auc:1.00000\tval-auc:0.48756\n",
      "[90]\ttrain-auc:1.00000\tval-auc:0.48880\n",
      "[100]\ttrain-auc:1.00000\tval-auc:0.48919\n",
      "[110]\ttrain-auc:1.00000\tval-auc:0.48839\n",
      "[120]\ttrain-auc:1.00000\tval-auc:0.49109\n",
      "[130]\ttrain-auc:1.00000\tval-auc:0.49400\n",
      "[140]\ttrain-auc:1.00000\tval-auc:0.49599\n",
      "[150]\ttrain-auc:1.00000\tval-auc:0.49727\n",
      "[160]\ttrain-auc:1.00000\tval-auc:0.49410\n",
      "[170]\ttrain-auc:1.00000\tval-auc:0.49661\n",
      "[180]\ttrain-auc:1.00000\tval-auc:0.49845\n",
      "[190]\ttrain-auc:1.00000\tval-auc:0.50012\n",
      "[200]\ttrain-auc:1.00000\tval-auc:0.50116\n",
      "[210]\ttrain-auc:1.00000\tval-auc:0.50174\n",
      "[220]\ttrain-auc:1.00000\tval-auc:0.49894\n",
      "[230]\ttrain-auc:1.00000\tval-auc:0.50183\n",
      "[240]\ttrain-auc:1.00000\tval-auc:0.50320\n",
      "[250]\ttrain-auc:1.00000\tval-auc:0.50413\n",
      "[260]\ttrain-auc:1.00000\tval-auc:0.50276\n",
      "[270]\ttrain-auc:1.00000\tval-auc:0.50434\n",
      "[280]\ttrain-auc:1.00000\tval-auc:0.50399\n",
      "[290]\ttrain-auc:1.00000\tval-auc:0.50520\n",
      "[300]\ttrain-auc:1.00000\tval-auc:0.50573\n",
      "[310]\ttrain-auc:1.00000\tval-auc:0.50767\n",
      "[320]\ttrain-auc:1.00000\tval-auc:0.50928\n",
      "[330]\ttrain-auc:1.00000\tval-auc:0.50996\n",
      "[340]\ttrain-auc:1.00000\tval-auc:0.50983\n",
      "[350]\ttrain-auc:1.00000\tval-auc:0.51055\n",
      "[360]\ttrain-auc:1.00000\tval-auc:0.51014\n",
      "[370]\ttrain-auc:1.00000\tval-auc:0.51022\n",
      "[380]\ttrain-auc:1.00000\tval-auc:0.51054\n",
      "[390]\ttrain-auc:1.00000\tval-auc:0.51054\n",
      "[400]\ttrain-auc:1.00000\tval-auc:0.51054\n",
      "[410]\ttrain-auc:1.00000\tval-auc:0.51054\n",
      "[420]\ttrain-auc:1.00000\tval-auc:0.51054\n",
      "[430]\ttrain-auc:1.00000\tval-auc:0.51054\n",
      "[440]\ttrain-auc:1.00000\tval-auc:0.51054\n",
      "[450]\ttrain-auc:1.00000\tval-auc:0.51054\n",
      "[460]\ttrain-auc:1.00000\tval-auc:0.51054\n",
      "[470]\ttrain-auc:1.00000\tval-auc:0.51054\n",
      "[480]\ttrain-auc:1.00000\tval-auc:0.51054\n",
      "[490]\ttrain-auc:1.00000\tval-auc:0.51054\n",
      "[499]\ttrain-auc:1.00000\tval-auc:0.51054\n"
     ]
    }
   ],
   "source": [
    "xgb_params = {\n",
    "    'eta': 0.3,\n",
    "    'max_depth': 6,\n",
    "    'min_child_weight': 1,\n",
    "    \n",
    "    'object': 'binary:logistic',\n",
    "    'eval_metric': 'auc',\n",
    "    'nthread': 2,\n",
    "    'seed': 1,\n",
    "    'silent': 1\n",
    "}\n",
    "\n",
    "\n",
    "model = xgb.train(xgb_params, dtrain, num_boost_round = 500, evals = watchlist, verbose_eval = 10)"
   ]
  },
  {
   "cell_type": "code",
   "execution_count": 225,
   "id": "b6ff631f",
   "metadata": {},
   "outputs": [],
   "source": [
    "y_train = (df_train_full.status == 'default').values\n",
    "y_test = (df_test.status == 'default').values\n",
    "\n",
    "del df_train_full['status']\n",
    "del df_test ['status']"
   ]
  },
  {
   "cell_type": "code",
   "execution_count": 226,
   "id": "59c35b47",
   "metadata": {},
   "outputs": [],
   "source": [
    "dict_train = df_train_full.fillna(0).to_dict(orient = 'records')\n",
    "dict_test = df_test.fillna(0).to_dict(orient = 'records')\n",
    "\n",
    "dv = DictVectorizer(sparse = False)\n",
    "X_train = dv.fit_transform(dict_train)\n",
    "X_test = dv.transform(dict_test)"
   ]
  },
  {
   "cell_type": "code",
   "execution_count": 244,
   "id": "5ae0df12",
   "metadata": {},
   "outputs": [],
   "source": [
    "dtrain = xgb.DMatrix(X_train, label = y_train, feature_names = dv.feature_names_)\n",
    "dtest = xgb.DMatrix(X_test, label = y_test, feature_names = dv.feature_names_)"
   ]
  },
  {
   "cell_type": "code",
   "execution_count": 249,
   "id": "282f8898",
   "metadata": {},
   "outputs": [
    {
     "name": "stdout",
     "output_type": "stream",
     "text": [
      "[05:01:03] WARNING: D:\\bld\\xgboost-split_1660208973102\\work\\src\\learner.cc:627: \n",
      "Parameters: { \"object\", \"silent\" } might not be used.\n",
      "\n",
      "  This could be a false alarm, with some parameters getting used by language bindings but\n",
      "  then being mistakenly passed down to XGBoost core, or some parameter actually being used\n",
      "  but getting flagged wrongly here. Please open an issue if you find any such cases.\n",
      "\n",
      "\n"
     ]
    }
   ],
   "source": [
    "#Final test\n",
    "xgb_params = {\n",
    "    'eta': 0.1,\n",
    "    'max_depth': 4,\n",
    "    'min_child_weight': 5,\n",
    "    \n",
    "    'object': 'binary:logistic',\n",
    "    'eval_metric': 'auc',\n",
    "    'nthread': 2,\n",
    "    'seed': 1,\n",
    "    'silent': 1\n",
    "}\n",
    "\n",
    "num_trees = 160\n",
    "\n",
    "model = xgb.train(xgb_params, dtrain, num_boost_round = num_trees)"
   ]
  },
  {
   "cell_type": "code",
   "execution_count": 250,
   "id": "e330c05b",
   "metadata": {},
   "outputs": [
    {
     "data": {
      "text/plain": [
       "0.8203977376391168"
      ]
     },
     "execution_count": 250,
     "metadata": {},
     "output_type": "execute_result"
    }
   ],
   "source": [
    "y_pred_xgb = model.predict(dtest)\n",
    "roc_auc_score(y_test, y_pred_xgb)"
   ]
  },
  {
   "cell_type": "code",
   "execution_count": null,
   "id": "8853a84c",
   "metadata": {},
   "outputs": [],
   "source": []
  }
 ],
 "metadata": {
  "kernelspec": {
   "display_name": "Python 3 (ipykernel)",
   "language": "python",
   "name": "python3"
  },
  "language_info": {
   "codemirror_mode": {
    "name": "ipython",
    "version": 3
   },
   "file_extension": ".py",
   "mimetype": "text/x-python",
   "name": "python",
   "nbconvert_exporter": "python",
   "pygments_lexer": "ipython3",
   "version": "3.9.12"
  }
 },
 "nbformat": 4,
 "nbformat_minor": 5
}
